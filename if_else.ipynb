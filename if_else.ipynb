{
 "cells": [
  {
   "cell_type": "code",
   "execution_count": 2,
   "id": "2dcf2003-81bf-43da-94c1-68639043feb1",
   "metadata": {},
   "outputs": [
    {
     "name": "stdout",
     "output_type": "stream",
     "text": [
      "I will Buy\n"
     ]
    }
   ],
   "source": [
    "a= 1000\n",
    "price= 400\n",
    "if price <= 500:\n",
    "    print(\"I will Buy\")\n",
    "    "
   ]
  },
  {
   "cell_type": "code",
   "execution_count": 4,
   "id": "3342d915-3416-47d5-8735-0794edc25722",
   "metadata": {},
   "outputs": [
    {
     "name": "stdout",
     "output_type": "stream",
     "text": [
      "I will not buy\n"
     ]
    }
   ],
   "source": [
    "a= 1000\n",
    "price= 600\n",
    "if price <= 500:\n",
    "    print(\"I will Buy\")\n",
    "else:\n",
    "    print(\"I will not buy\")"
   ]
  },
  {
   "cell_type": "code",
   "execution_count": 8,
   "id": "1a3f248f-feb8-41d8-85a2-9f9638d8c23e",
   "metadata": {},
   "outputs": [
    {
     "name": "stdin",
     "output_type": "stream",
     "text": [
      " 1000\n"
     ]
    }
   ],
   "source": [
    "# input() function- it takes input from user and considers entered value as string by default\n",
    "price= input()"
   ]
  },
  {
   "cell_type": "code",
   "execution_count": 9,
   "id": "d79334df-f46d-497c-9bdb-6fff73cbb207",
   "metadata": {},
   "outputs": [
    {
     "data": {
      "text/plain": [
       "'1000'"
      ]
     },
     "execution_count": 9,
     "metadata": {},
     "output_type": "execute_result"
    }
   ],
   "source": [
    "price"
   ]
  },
  {
   "cell_type": "code",
   "execution_count": 10,
   "id": "6b699d00-81c1-47f9-8e8d-bb76e6621048",
   "metadata": {},
   "outputs": [
    {
     "data": {
      "text/plain": [
       "str"
      ]
     },
     "execution_count": 10,
     "metadata": {},
     "output_type": "execute_result"
    }
   ],
   "source": [
    "type(price)"
   ]
  },
  {
   "cell_type": "code",
   "execution_count": 12,
   "id": "e5cb226e-2ee0-44c7-8691-dbcb9a6a72fe",
   "metadata": {},
   "outputs": [
    {
     "name": "stdin",
     "output_type": "stream",
     "text": [
      " 2000\n"
     ]
    }
   ],
   "source": [
    "# type casting of str into int\n",
    "price= int(input())"
   ]
  },
  {
   "cell_type": "code",
   "execution_count": 13,
   "id": "d4a137ab-b15b-44e3-93aa-78b72fa4e34a",
   "metadata": {},
   "outputs": [
    {
     "data": {
      "text/plain": [
       "int"
      ]
     },
     "execution_count": 13,
     "metadata": {},
     "output_type": "execute_result"
    }
   ],
   "source": [
    "type(price)"
   ]
  },
  {
   "cell_type": "code",
   "execution_count": 14,
   "id": "73251b1b-9b17-4b61-bb4c-60d7e63328d6",
   "metadata": {},
   "outputs": [
    {
     "name": "stdin",
     "output_type": "stream",
     "text": [
      "Enter price:  670\n"
     ]
    },
    {
     "name": "stdout",
     "output_type": "stream",
     "text": [
      "I will surely buy\n"
     ]
    }
   ],
   "source": [
    "# giving print statement for taking input\n",
    "price= int(input(\"Enter price: \"))\n",
    "if price>=800:\n",
    "    print(\"I cannot afford this shirt\")\n",
    "else:\n",
    "    print(\"I will surely buy\")"
   ]
  },
  {
   "cell_type": "code",
   "execution_count": 16,
   "id": "ef8c84bc-753b-46bd-9ced-0df965cb7a60",
   "metadata": {},
   "outputs": [
    {
     "name": "stdin",
     "output_type": "stream",
     "text": [
      "Enter price:  670\n"
     ]
    },
    {
     "name": "stdout",
     "output_type": "stream",
     "text": [
      "I can buy this\n"
     ]
    }
   ],
   "source": [
    "# if-- elif-- else\n",
    "price= int(input(\"Enter price: \"))\n",
    "if price>= 800:\n",
    "    print(\"I cannot afford this shirt\")\n",
    "elif price>500 and price<800:\n",
    "    print(\"I can buy this\")\n",
    "else:\n",
    "    print(\"I will surely buy, its very cheap\")"
   ]
  },
  {
   "cell_type": "code",
   "execution_count": 17,
   "id": "2f0ca72f-254f-4d6d-8854-48efd015c67c",
   "metadata": {},
   "outputs": [
    {
     "name": "stdin",
     "output_type": "stream",
     "text": [
      "Enter a number to check if it is even or odd:  53\n"
     ]
    },
    {
     "name": "stdout",
     "output_type": "stream",
     "text": [
      "Number is odd\n"
     ]
    }
   ],
   "source": [
    "# Nested if..else\n",
    "n= int(input(\"Enter a number to check if it is even or odd: \"))\n",
    "if n%2==0:\n",
    "    if n==0:\n",
    "        print(\"Input is zero\")\n",
    "    else:\n",
    "        print(\"Number is even\")\n",
    "\n",
    "else:\n",
    "    print(\"Number is odd\")\n"
   ]
  },
  {
   "cell_type": "code",
   "execution_count": 19,
   "id": "5f81dae8-d519-4962-ba07-aba73a65a143",
   "metadata": {},
   "outputs": [
    {
     "name": "stdin",
     "output_type": "stream",
     "text": [
      "Enter your age 20\n",
      "Are you a citizen? yes\n",
      "Do you have a voter id? No\n"
     ]
    },
    {
     "name": "stdout",
     "output_type": "stream",
     "text": [
      "Make your voter id and then vote\n"
     ]
    }
   ],
   "source": [
    "age= int(input(\"Enter your age\"))\n",
    "citizen= input(\"Are you a citizen?\")\n",
    "voterId= input(\"Do you have a voter id?\")\n",
    "\n",
    "if age> 18:\n",
    "    if citizen== 'yes':\n",
    "        if voterId== 'yes' :\n",
    "            print(\"You can vote\")\n",
    "        else:\n",
    "            print(\"Make your voter id and then vote\")\n",
    "    else:\n",
    "        print(\"Vote from where you have citzenship\")\n",
    "        \n",
    "else:\n",
    "    print(\"You cannot vote\")"
   ]
  },
  {
   "cell_type": "code",
   "execution_count": null,
   "id": "672d84d1-f9b1-44c7-9e83-e30eef6ff416",
   "metadata": {},
   "outputs": [],
   "source": []
  }
 ],
 "metadata": {
  "kernelspec": {
   "display_name": "Python 3 (ipykernel)",
   "language": "python",
   "name": "python3"
  },
  "language_info": {
   "codemirror_mode": {
    "name": "ipython",
    "version": 3
   },
   "file_extension": ".py",
   "mimetype": "text/x-python",
   "name": "python",
   "nbconvert_exporter": "python",
   "pygments_lexer": "ipython3",
   "version": "3.10.8"
  }
 },
 "nbformat": 4,
 "nbformat_minor": 5
}
