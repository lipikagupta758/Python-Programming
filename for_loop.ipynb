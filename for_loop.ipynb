{
 "cells": [
  {
   "cell_type": "code",
   "execution_count": 1,
   "id": "ba252721-0cc8-4ed6-bdd0-8dfd534555a9",
   "metadata": {},
   "outputs": [
    {
     "name": "stdout",
     "output_type": "stream",
     "text": [
      "p\n",
      "w\n",
      "s\n",
      "k\n",
      "i\n",
      "l\n",
      "l\n",
      "s\n"
     ]
    }
   ],
   "source": [
    "a= 'pwskills'\n",
    "for i in a:\n",
    "    print(i)"
   ]
  },
  {
   "cell_type": "code",
   "execution_count": 3,
   "id": "31e1896b-0fe3-4707-8001-f924e71a2df1",
   "metadata": {},
   "outputs": [
    {
     "name": "stdout",
     "output_type": "stream",
     "text": [
      "p\n",
      "w\n",
      "s\n",
      "k\n",
      "i\n"
     ]
    }
   ],
   "source": [
    "for i in a[0:5]:\n",
    "    print(i)"
   ]
  },
  {
   "cell_type": "code",
   "execution_count": 4,
   "id": "b3eaac00-2547-4dca-aca9-bce69fd47947",
   "metadata": {},
   "outputs": [
    {
     "name": "stdout",
     "output_type": "stream",
     "text": [
      "P\n",
      "W\n",
      "S\n",
      "K\n",
      "I\n",
      "L\n",
      "L\n",
      "S\n"
     ]
    }
   ],
   "source": [
    "for i in a:\n",
    "    print(i.upper())"
   ]
  },
  {
   "cell_type": "code",
   "execution_count": 5,
   "id": "f2b232e8-c95c-4187-9958-7df75a195f6c",
   "metadata": {},
   "outputs": [
    {
     "name": "stdout",
     "output_type": "stream",
     "text": [
      "2\n",
      "3\n",
      "4\n",
      "5\n",
      "6\n",
      "7\n",
      "8\n"
     ]
    }
   ],
   "source": [
    "l= [2,3,4,5,6,7,8]\n",
    "for i in l:\n",
    "    print(i)"
   ]
  },
  {
   "cell_type": "code",
   "execution_count": 6,
   "id": "bc13911e-8229-40bf-96e7-3438e262af5a",
   "metadata": {},
   "outputs": [
    {
     "name": "stdout",
     "output_type": "stream",
     "text": [
      "4\n",
      "5\n",
      "6\n",
      "7\n",
      "8\n",
      "9\n",
      "10\n"
     ]
    }
   ],
   "source": [
    "for i in l:\n",
    "    print(i+2)"
   ]
  },
  {
   "cell_type": "code",
   "execution_count": 7,
   "id": "4dc3b1f3-4aee-4600-844f-e0f1e8144c1d",
   "metadata": {},
   "outputs": [
    {
     "name": "stdout",
     "output_type": "stream",
     "text": [
      "2\n",
      "4\n",
      "6\n",
      "8\n"
     ]
    }
   ],
   "source": [
    "# WAP t0 print numbers if they are even\n",
    "for i in l:\n",
    "    if i%2==0:\n",
    "        print(i)"
   ]
  },
  {
   "cell_type": "code",
   "execution_count": 9,
   "id": "670ed803-5552-47ba-a772-552ec86dd776",
   "metadata": {},
   "outputs": [
    {
     "name": "stdout",
     "output_type": "stream",
     "text": [
      "[2, 4, 6, 8]\n"
     ]
    }
   ],
   "source": [
    "# WAP t0 print numbers if they are even and store them in a list\n",
    "l1= []\n",
    "for i in l:\n",
    "    if i%2==0:\n",
    "        l1.append(i)\n",
    "print(l1)"
   ]
  },
  {
   "cell_type": "code",
   "execution_count": 10,
   "id": "37851956-474c-4f21-acc9-edbc7faa51d6",
   "metadata": {},
   "outputs": [
    {
     "name": "stdout",
     "output_type": "stream",
     "text": [
      "2\n",
      "3\n",
      "4\n",
      "5\n",
      "6\n",
      "7\n",
      "8\n",
      "After for loop ends succesfully, else runs\n"
     ]
    }
   ],
   "source": [
    "# for else\n",
    "for i in l:\n",
    "    print(i)\n",
    "else:\n",
    "    print(\"After for loop ends succesfully, else runs\")\n",
    "    "
   ]
  },
  {
   "cell_type": "code",
   "execution_count": 11,
   "id": "7c91dfb0-cc6f-4801-ba79-e512c8a5ef1e",
   "metadata": {},
   "outputs": [
    {
     "name": "stdout",
     "output_type": "stream",
     "text": [
      "2\n",
      "3\n",
      "4\n",
      "5\n"
     ]
    }
   ],
   "source": [
    "for i in l:\n",
    "    print(i)\n",
    "    if i==5:\n",
    "        break;\n",
    "else:\n",
    "    print(\"If for loop do not completes, this else block will not execute\")"
   ]
  },
  {
   "cell_type": "code",
   "execution_count": 12,
   "id": "e1754d4b-bf2e-4633-8656-7d18f2412307",
   "metadata": {},
   "outputs": [
    {
     "name": "stdout",
     "output_type": "stream",
     "text": [
      "35\n"
     ]
    }
   ],
   "source": [
    "# WAP to sum the elements of list\n",
    "sum=0\n",
    "for i in l:\n",
    "    sum+=i\n",
    "print(sum)\n",
    "    "
   ]
  },
  {
   "cell_type": "code",
   "execution_count": 16,
   "id": "05b8811a-6b8a-4dc7-8b2a-294c9a85d25c",
   "metadata": {},
   "outputs": [],
   "source": [
    "l2= [2,3,4,5,'lipika', 'python', 2.3, True, False]\n",
    "l_int= []\n",
    "l_str= []\n",
    "l_bool= []\n",
    "for i in l2:\n",
    "    if type(i)== int:\n",
    "        l_int.append(i)\n",
    "    elif type(i)== str:\n",
    "        l_str.append(i)\n",
    "    elif type(i)== bool:\n",
    "        l_bool.append(i)\n",
    "\n",
    "    "
   ]
  },
  {
   "cell_type": "code",
   "execution_count": 17,
   "id": "6bd1e9ec-aa55-4ff5-b161-0fce241e4127",
   "metadata": {},
   "outputs": [
    {
     "data": {
      "text/plain": [
       "['lipika', 'python']"
      ]
     },
     "execution_count": 17,
     "metadata": {},
     "output_type": "execute_result"
    }
   ],
   "source": [
    "l_str"
   ]
  },
  {
   "cell_type": "code",
   "execution_count": 18,
   "id": "86eb55d6-fd03-4185-9742-2bc0027c8bc7",
   "metadata": {},
   "outputs": [
    {
     "data": {
      "text/plain": [
       "[True, False]"
      ]
     },
     "execution_count": 18,
     "metadata": {},
     "output_type": "execute_result"
    }
   ],
   "source": [
    "l_bool"
   ]
  },
  {
   "cell_type": "code",
   "execution_count": 19,
   "id": "05eb1dd8-5d0c-4ed4-ad08-e0e683977250",
   "metadata": {},
   "outputs": [
    {
     "data": {
      "text/plain": [
       "[2, 3, 4, 5]"
      ]
     },
     "execution_count": 19,
     "metadata": {},
     "output_type": "execute_result"
    }
   ],
   "source": [
    "l_int"
   ]
  },
  {
   "cell_type": "code",
   "execution_count": 20,
   "id": "2e2a3201-14a3-442d-b0c4-0a3a9b651193",
   "metadata": {},
   "outputs": [
    {
     "name": "stdout",
     "output_type": "stream",
     "text": [
      "2\n",
      "3\n",
      "4\n",
      "5\n",
      "lipika\n",
      "pwskills\n"
     ]
    }
   ],
   "source": [
    "t= (2,3,4,5,\"lipika\", \"pwskills\")\n",
    "for i in t:\n",
    "    print(i)"
   ]
  },
  {
   "cell_type": "code",
   "execution_count": 23,
   "id": "295f37d6-2380-4c61-8188-7ca0fbbe5227",
   "metadata": {},
   "outputs": [
    {
     "data": {
      "text/plain": [
       "dict_items([('name', 'lipika'), ('age', 21), ('subject', ['DSA', 'DBMS', 'OS'])])"
      ]
     },
     "execution_count": 23,
     "metadata": {},
     "output_type": "execute_result"
    }
   ],
   "source": [
    "d.items()"
   ]
  },
  {
   "cell_type": "code",
   "execution_count": 22,
   "id": "0e69ca0e-afd4-4c95-ab5a-6bf21c9312bd",
   "metadata": {},
   "outputs": [
    {
     "name": "stdout",
     "output_type": "stream",
     "text": [
      "('name', 'lipika')\n",
      "('age', 21)\n",
      "('subject', ['DSA', 'DBMS', 'OS'])\n"
     ]
    }
   ],
   "source": [
    "d= {'name': 'lipika', 'age':21, 'subject': ['DSA', 'DBMS', 'OS']}\n",
    "for i in d.items():\n",
    "    print(i)"
   ]
  },
  {
   "cell_type": "code",
   "execution_count": 24,
   "id": "efdc169b-695e-4d56-abfa-e3a0bdba8803",
   "metadata": {},
   "outputs": [
    {
     "name": "stdout",
     "output_type": "stream",
     "text": [
      "name\n",
      "age\n",
      "subject\n"
     ]
    }
   ],
   "source": [
    "for i in d.keys():\n",
    "    print(i)"
   ]
  },
  {
   "cell_type": "code",
   "execution_count": 25,
   "id": "58bc6a9c-5ab9-4f7b-b021-2222e1118e0c",
   "metadata": {},
   "outputs": [
    {
     "name": "stdout",
     "output_type": "stream",
     "text": [
      "lipika\n",
      "21\n",
      "['DSA', 'DBMS', 'OS']\n"
     ]
    }
   ],
   "source": [
    "for i in d.values():\n",
    "    print(i)"
   ]
  },
  {
   "cell_type": "code",
   "execution_count": 27,
   "id": "0ff8b55a-9955-4a29-9343-51dc7f74ca74",
   "metadata": {},
   "outputs": [
    {
     "name": "stdout",
     "output_type": "stream",
     "text": [
      "True\n"
     ]
    }
   ],
   "source": [
    "# WAP to check  in 'DSA' is in list\n",
    "for i in d.values():\n",
    "    if type(i)== list:\n",
    "        print('DSA' in i)"
   ]
  },
  {
   "cell_type": "code",
   "execution_count": null,
   "id": "454e0bde-5e2a-4efa-ac32-865a612122f1",
   "metadata": {},
   "outputs": [],
   "source": []
  }
 ],
 "metadata": {
  "kernelspec": {
   "display_name": "Python 3 (ipykernel)",
   "language": "python",
   "name": "python3"
  },
  "language_info": {
   "codemirror_mode": {
    "name": "ipython",
    "version": 3
   },
   "file_extension": ".py",
   "mimetype": "text/x-python",
   "name": "python",
   "nbconvert_exporter": "python",
   "pygments_lexer": "ipython3",
   "version": "3.10.8"
  }
 },
 "nbformat": 4,
 "nbformat_minor": 5
}
