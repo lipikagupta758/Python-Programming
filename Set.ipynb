{
 "cells": [
  {
   "cell_type": "code",
   "execution_count": 1,
   "id": "8d1818f1-83eb-44ed-9718-c38276fd5fc3",
   "metadata": {},
   "outputs": [
    {
     "data": {
      "text/plain": [
       "dict"
      ]
     },
     "execution_count": 1,
     "metadata": {},
     "output_type": "execute_result"
    }
   ],
   "source": [
    "s={}\n",
    "type(s)"
   ]
  },
  {
   "cell_type": "code",
   "execution_count": 6,
   "id": "58eebd74-0432-47f4-94c5-9a29dbe808d5",
   "metadata": {},
   "outputs": [
    {
     "data": {
      "text/plain": [
       "{1, 2, 3, 4, 5, 'avinash', 'lipika'}"
      ]
     },
     "execution_count": 6,
     "metadata": {},
     "output_type": "execute_result"
    }
   ],
   "source": [
    "# The main advantage of sets is that it gives unique values. It removes duplicate values\n",
    "s1= {1,2,3,4,5,2,1,4,5,\"lipika\",\"avinash\",\"lipika\"}\n",
    "s1"
   ]
  },
  {
   "cell_type": "code",
   "execution_count": 8,
   "id": "a64d9172-da14-47b5-86dd-0a14af1bad19",
   "metadata": {},
   "outputs": [
    {
     "data": {
      "text/plain": [
       "{'lipika'}"
      ]
     },
     "execution_count": 8,
     "metadata": {},
     "output_type": "execute_result"
    }
   ],
   "source": [
    "s2= {\"lipika\", \"lipika\"}\n",
    "s2"
   ]
  },
  {
   "cell_type": "code",
   "execution_count": 9,
   "id": "c26fca76-3bea-4024-b0a7-f9285543bdc2",
   "metadata": {},
   "outputs": [
    {
     "data": {
      "text/plain": [
       "{'Lipika', 'lipika'}"
      ]
     },
     "execution_count": 9,
     "metadata": {},
     "output_type": "execute_result"
    }
   ],
   "source": [
    "s3= {\"lipika\", \"Lipika\"}\n",
    "s3"
   ]
  },
  {
   "cell_type": "code",
   "execution_count": null,
   "id": "17885f08-4946-4754-9e51-e25eaf5bee16",
   "metadata": {},
   "outputs": [],
   "source": [
    "# add function- it adds element to the set\n",
    "# no effect if element is already present in set\n",
    "# can add int, bool, float, complex, string, tuple data type but it cannot add a list and set\n",
    "s2.add(\"pwskills\")\n",
    "s2"
   ]
  },
  {
   "cell_type": "code",
   "execution_count": 22,
   "id": "5f5b35da-3545-424e-925a-2dcfc00463fb",
   "metadata": {},
   "outputs": [],
   "source": [
    "s2.add(\"pwskills\")"
   ]
  },
  {
   "cell_type": "code",
   "execution_count": 23,
   "id": "8e72849d-3192-4a6e-91d5-f3bd343c1233",
   "metadata": {},
   "outputs": [
    {
     "data": {
      "text/plain": [
       "{(7, 8), 'lipika', 'pwskills'}"
      ]
     },
     "execution_count": 23,
     "metadata": {},
     "output_type": "execute_result"
    }
   ],
   "source": [
    "s2"
   ]
  },
  {
   "cell_type": "code",
   "execution_count": 24,
   "id": "c67c83f6-5013-4345-806a-bb2106a535f0",
   "metadata": {},
   "outputs": [],
   "source": [
    "s2.add((7,8))"
   ]
  },
  {
   "cell_type": "code",
   "execution_count": 25,
   "id": "106a8495-9aac-4d4d-a7cc-15d60be5d6a0",
   "metadata": {},
   "outputs": [
    {
     "data": {
      "text/plain": [
       "{(7, 8), 'lipika', 'pwskills'}"
      ]
     },
     "execution_count": 25,
     "metadata": {},
     "output_type": "execute_result"
    }
   ],
   "source": [
    "s2"
   ]
  },
  {
   "cell_type": "code",
   "execution_count": 26,
   "id": "d0f537e0-2060-49b9-a804-6d104536916d",
   "metadata": {},
   "outputs": [
    {
     "ename": "TypeError",
     "evalue": "unhashable type: 'list'",
     "output_type": "error",
     "traceback": [
      "\u001b[0;31m---------------------------------------------------------------------------\u001b[0m",
      "\u001b[0;31mTypeError\u001b[0m                                 Traceback (most recent call last)",
      "Cell \u001b[0;32mIn[26], line 1\u001b[0m\n\u001b[0;32m----> 1\u001b[0m \u001b[43ms2\u001b[49m\u001b[38;5;241;43m.\u001b[39;49m\u001b[43madd\u001b[49m\u001b[43m(\u001b[49m\u001b[43m[\u001b[49m\u001b[38;5;241;43m7\u001b[39;49m\u001b[43m,\u001b[49m\u001b[38;5;241;43m9\u001b[39;49m\u001b[43m]\u001b[49m\u001b[43m)\u001b[49m\n",
      "\u001b[0;31mTypeError\u001b[0m: unhashable type: 'list'"
     ]
    }
   ],
   "source": [
    "s2.add([7,9])"
   ]
  },
  {
   "cell_type": "code",
   "execution_count": 28,
   "id": "bbd98222-b230-4a12-a2cb-ec71b3abedf1",
   "metadata": {},
   "outputs": [
    {
     "ename": "TypeError",
     "evalue": "unhashable type: 'set'",
     "output_type": "error",
     "traceback": [
      "\u001b[0;31m---------------------------------------------------------------------------\u001b[0m",
      "\u001b[0;31mTypeError\u001b[0m                                 Traceback (most recent call last)",
      "Cell \u001b[0;32mIn[28], line 1\u001b[0m\n\u001b[0;32m----> 1\u001b[0m \u001b[43ms2\u001b[49m\u001b[38;5;241;43m.\u001b[39;49m\u001b[43madd\u001b[49m\u001b[43m(\u001b[49m\u001b[43m{\u001b[49m\u001b[38;5;241;43m6\u001b[39;49m\u001b[43m,\u001b[49m\u001b[38;5;241;43m7\u001b[39;49m\u001b[43m}\u001b[49m\u001b[43m)\u001b[49m\n",
      "\u001b[0;31mTypeError\u001b[0m: unhashable type: 'set'"
     ]
    }
   ],
   "source": [
    "s2.add({6,7})"
   ]
  },
  {
   "cell_type": "code",
   "execution_count": 29,
   "id": "1f78f748-d545-454f-b2c7-915dfc622e3b",
   "metadata": {},
   "outputs": [],
   "source": [
    "# clear function- it removes everything from set\n",
    "s2.clear()"
   ]
  },
  {
   "cell_type": "code",
   "execution_count": 30,
   "id": "f48d1a6c-5598-4b1a-bb93-3172dd40bb98",
   "metadata": {},
   "outputs": [
    {
     "data": {
      "text/plain": [
       "set()"
      ]
     },
     "execution_count": 30,
     "metadata": {},
     "output_type": "execute_result"
    }
   ],
   "source": [
    "s2"
   ]
  },
  {
   "cell_type": "code",
   "execution_count": 35,
   "id": "f0a9a1f4-606c-48ec-bbc5-f0eff236e2b4",
   "metadata": {},
   "outputs": [
    {
     "data": {
      "text/plain": [
       "{2, 3, 4, 5, 7}"
      ]
     },
     "execution_count": 35,
     "metadata": {},
     "output_type": "execute_result"
    }
   ],
   "source": [
    "# set() function- you can use this function to convert any list or tuple into a set\n",
    "lis= [2,3,4,5,2,3,4,4,5,2,3,2,4,5,7]\n",
    "set(lis)"
   ]
  },
  {
   "cell_type": "code",
   "execution_count": 36,
   "id": "c753aa47-4eac-4020-b1a2-cb5a19b7a9ad",
   "metadata": {},
   "outputs": [
    {
     "data": {
      "text/plain": [
       "{2, 3, 4, 5, 6, 7}"
      ]
     },
     "execution_count": 36,
     "metadata": {},
     "output_type": "execute_result"
    }
   ],
   "source": [
    "tup= (2,3,4,5,2,3,4,4,5,7,6,6)\n",
    "set(tup)"
   ]
  },
  {
   "cell_type": "code",
   "execution_count": 45,
   "id": "66509731-94c5-4f01-a7cd-cbde1bd0d96d",
   "metadata": {},
   "outputs": [
    {
     "data": {
      "text/plain": [
       "{1, 4, 5, 'avinash', 'lipika'}"
      ]
     },
     "execution_count": 45,
     "metadata": {},
     "output_type": "execute_result"
    }
   ],
   "source": [
    "s1"
   ]
  },
  {
   "cell_type": "code",
   "execution_count": 46,
   "id": "c164e90a-731e-45af-a013-94ccc49b833d",
   "metadata": {},
   "outputs": [],
   "source": [
    "# remove function- it removes a element from set if present, otherwise raise error \n",
    "s1.remove(4)"
   ]
  },
  {
   "cell_type": "code",
   "execution_count": 47,
   "id": "cfff4966-3c9d-418f-a687-86b578567e8e",
   "metadata": {},
   "outputs": [
    {
     "data": {
      "text/plain": [
       "{1, 5, 'avinash', 'lipika'}"
      ]
     },
     "execution_count": 47,
     "metadata": {},
     "output_type": "execute_result"
    }
   ],
   "source": [
    "s1"
   ]
  },
  {
   "cell_type": "code",
   "execution_count": 48,
   "id": "592391df-0f26-4ffe-b522-6e8c9a5192fb",
   "metadata": {},
   "outputs": [],
   "source": [
    "# discard function- it does the same work as remove, which is to remove a element froma  set\n",
    "# The only difference is that it donot raise error even if element is not present in a set\n",
    "s1.discard(100)"
   ]
  },
  {
   "cell_type": "code",
   "execution_count": 49,
   "id": "92ac62c9-a4b3-4352-b285-47c7bc43a7cd",
   "metadata": {},
   "outputs": [
    {
     "data": {
      "text/plain": [
       "{1, 5, 'avinash', 'lipika'}"
      ]
     },
     "execution_count": 49,
     "metadata": {},
     "output_type": "execute_result"
    }
   ],
   "source": [
    "s1"
   ]
  },
  {
   "cell_type": "code",
   "execution_count": 50,
   "id": "485b4c42-d57b-41ed-94e4-c2a0cbff70e6",
   "metadata": {},
   "outputs": [
    {
     "data": {
      "text/plain": [
       "1"
      ]
     },
     "execution_count": 50,
     "metadata": {},
     "output_type": "execute_result"
    }
   ],
   "source": [
    "# pop function- it removes any random element from set\n",
    "s1.pop()"
   ]
  },
  {
   "cell_type": "code",
   "execution_count": 51,
   "id": "5ebf7165-9c75-4328-a787-bb315eb1429f",
   "metadata": {},
   "outputs": [
    {
     "data": {
      "text/plain": [
       "{5, 'avinash', 'lipika'}"
      ]
     },
     "execution_count": 51,
     "metadata": {},
     "output_type": "execute_result"
    }
   ],
   "source": [
    "s1"
   ]
  },
  {
   "cell_type": "code",
   "execution_count": 52,
   "id": "62cbcf1f-7df0-41d3-8ca5-4b4be1ef4e9e",
   "metadata": {},
   "outputs": [
    {
     "ename": "TypeError",
     "evalue": "'set' object is not subscriptable",
     "output_type": "error",
     "traceback": [
      "\u001b[0;31m---------------------------------------------------------------------------\u001b[0m",
      "\u001b[0;31mTypeError\u001b[0m                                 Traceback (most recent call last)",
      "Cell \u001b[0;32mIn[52], line 2\u001b[0m\n\u001b[1;32m      1\u001b[0m \u001b[38;5;66;03m# There is no indexing in a set as it stores data in a sequenced manner\u001b[39;00m\n\u001b[0;32m----> 2\u001b[0m \u001b[43ms1\u001b[49m\u001b[43m[\u001b[49m\u001b[38;5;241;43m0\u001b[39;49m\u001b[43m]\u001b[49m\n",
      "\u001b[0;31mTypeError\u001b[0m: 'set' object is not subscriptable"
     ]
    }
   ],
   "source": [
    "# There is no indexing in a set as it stores data in a sequenced manner\n",
    "s1[0]"
   ]
  },
  {
   "cell_type": "code",
   "execution_count": null,
   "id": "747e367e-cf28-4559-8584-2a618d2babae",
   "metadata": {},
   "outputs": [],
   "source": []
  }
 ],
 "metadata": {
  "kernelspec": {
   "display_name": "Python 3 (ipykernel)",
   "language": "python",
   "name": "python3"
  },
  "language_info": {
   "codemirror_mode": {
    "name": "ipython",
    "version": 3
   },
   "file_extension": ".py",
   "mimetype": "text/x-python",
   "name": "python",
   "nbconvert_exporter": "python",
   "pygments_lexer": "ipython3",
   "version": "3.10.8"
  }
 },
 "nbformat": 4,
 "nbformat_minor": 5
}
