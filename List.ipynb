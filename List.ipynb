{
 "cells": [
  {
   "cell_type": "code",
   "execution_count": 4,
   "id": "8fce4edc-e021-40e4-85e7-9ff463bf94a7",
   "metadata": {},
   "outputs": [
    {
     "data": {
      "text/plain": [
       "list"
      ]
     },
     "execution_count": 4,
     "metadata": {},
     "output_type": "execute_result"
    }
   ],
   "source": [
    "l= []\n",
    "type(l)"
   ]
  },
  {
   "cell_type": "code",
   "execution_count": 5,
   "id": "605dde07-db20-4e51-b95d-ef75ee9bbb86",
   "metadata": {},
   "outputs": [],
   "source": [
    "l1=[1,2,3,4,5]"
   ]
  },
  {
   "cell_type": "code",
   "execution_count": 6,
   "id": "2272a4d1-d325-411e-b53b-de22c48d00b0",
   "metadata": {},
   "outputs": [
    {
     "data": {
      "text/plain": [
       "[1, 2, 3, 4, 5]"
      ]
     },
     "execution_count": 6,
     "metadata": {},
     "output_type": "execute_result"
    }
   ],
   "source": [
    "l1"
   ]
  },
  {
   "cell_type": "code",
   "execution_count": 7,
   "id": "d41076bf-9426-46e9-a013-4c9238546122",
   "metadata": {},
   "outputs": [],
   "source": [
    "# List may contains elemenets of different data types\n",
    "l2= [1,2,4.5,\"lipika\",True, (4+9j)]"
   ]
  },
  {
   "cell_type": "code",
   "execution_count": 8,
   "id": "ee8b365f-f1d8-4837-a2e0-cf122b995e23",
   "metadata": {},
   "outputs": [
    {
     "data": {
      "text/plain": [
       "[1, 2, 4.5, 'lipika', True, (4+9j)]"
      ]
     },
     "execution_count": 8,
     "metadata": {},
     "output_type": "execute_result"
    }
   ],
   "source": [
    "l2"
   ]
  },
  {
   "cell_type": "code",
   "execution_count": 9,
   "id": "0f22e6a5-ec2a-436f-b243-308f09548b32",
   "metadata": {},
   "outputs": [],
   "source": [
    "l3= [\"Lipika\", 5, 45.67, True]"
   ]
  },
  {
   "cell_type": "code",
   "execution_count": 10,
   "id": "ac89d177-39e0-43d6-90c0-04ea6fe68ac0",
   "metadata": {},
   "outputs": [
    {
     "data": {
      "text/plain": [
       "'Lipika'"
      ]
     },
     "execution_count": 10,
     "metadata": {},
     "output_type": "execute_result"
    }
   ],
   "source": [
    "# List Indexing- Forward( 0 to n-1), Backward(-1 to -n)\n",
    "l3[0]"
   ]
  },
  {
   "cell_type": "code",
   "execution_count": 11,
   "id": "b9c821a0-5cf9-4bcb-8aff-b469afe3bc71",
   "metadata": {},
   "outputs": [
    {
     "data": {
      "text/plain": [
       "True"
      ]
     },
     "execution_count": 11,
     "metadata": {},
     "output_type": "execute_result"
    }
   ],
   "source": [
    "l3[-1]"
   ]
  },
  {
   "cell_type": "code",
   "execution_count": 12,
   "id": "0c0d2397-ebed-474c-a284-cb2444d91764",
   "metadata": {
    "tags": []
   },
   "outputs": [
    {
     "ename": "IndexError",
     "evalue": "list index out of range",
     "output_type": "error",
     "traceback": [
      "\u001b[0;31m---------------------------------------------------------------------------\u001b[0m",
      "\u001b[0;31mIndexError\u001b[0m                                Traceback (most recent call last)",
      "Cell \u001b[0;32mIn[12], line 1\u001b[0m\n\u001b[0;32m----> 1\u001b[0m \u001b[43ml3\u001b[49m\u001b[43m[\u001b[49m\u001b[38;5;241;43m10\u001b[39;49m\u001b[43m]\u001b[49m\n",
      "\u001b[0;31mIndexError\u001b[0m: list index out of range"
     ]
    }
   ],
   "source": [
    "l3[10]"
   ]
  },
  {
   "cell_type": "code",
   "execution_count": 13,
   "id": "ede98e8d-a452-4454-aad8-0c36121ab908",
   "metadata": {},
   "outputs": [
    {
     "data": {
      "text/plain": [
       "['Lipika', 5]"
      ]
     },
     "execution_count": 13,
     "metadata": {},
     "output_type": "execute_result"
    }
   ],
   "source": [
    "# List slicing- [Start: End-1: Spacing]\n",
    "l3[0:2]"
   ]
  },
  {
   "cell_type": "code",
   "execution_count": 14,
   "id": "ef6d1966-13fc-4578-ae9d-519f936b40bb",
   "metadata": {},
   "outputs": [
    {
     "data": {
      "text/plain": [
       "[True, 45.67, 5, 'Lipika']"
      ]
     },
     "execution_count": 14,
     "metadata": {},
     "output_type": "execute_result"
    }
   ],
   "source": [
    "l3[::-1]"
   ]
  },
  {
   "cell_type": "code",
   "execution_count": 15,
   "id": "b85a7484-da92-4d3d-ae5f-5a28de73f82e",
   "metadata": {},
   "outputs": [
    {
     "data": {
      "text/plain": [
       "['Lipika', 5, 45.67, True]"
      ]
     },
     "execution_count": 15,
     "metadata": {},
     "output_type": "execute_result"
    }
   ],
   "source": [
    "l3"
   ]
  },
  {
   "cell_type": "code",
   "execution_count": 16,
   "id": "4f97b5df-ae73-441f-87eb-2ed7c0e77ae1",
   "metadata": {},
   "outputs": [],
   "source": [
    "l3= l3[::-1]"
   ]
  },
  {
   "cell_type": "code",
   "execution_count": 17,
   "id": "fe35a351-b5f4-4380-b381-becd0ad89de6",
   "metadata": {},
   "outputs": [
    {
     "data": {
      "text/plain": [
       "[True, 45.67, 5, 'Lipika']"
      ]
     },
     "execution_count": 17,
     "metadata": {},
     "output_type": "execute_result"
    }
   ],
   "source": [
    "l3"
   ]
  },
  {
   "cell_type": "code",
   "execution_count": 18,
   "id": "be620318-3426-4fbd-8663-2fbfd5ef7fbd",
   "metadata": {},
   "outputs": [],
   "source": [
    "l3[0]= 100"
   ]
  },
  {
   "cell_type": "code",
   "execution_count": 19,
   "id": "0b7ff618-6e11-4498-ae84-8a87068b6d28",
   "metadata": {},
   "outputs": [
    {
     "data": {
      "text/plain": [
       "[100, 45.67, 5, 'Lipika']"
      ]
     },
     "execution_count": 19,
     "metadata": {},
     "output_type": "execute_result"
    }
   ],
   "source": [
    "l3"
   ]
  },
  {
   "cell_type": "code",
   "execution_count": 20,
   "id": "ad61bbcc-74f7-456c-af4d-2e1f41520485",
   "metadata": {},
   "outputs": [],
   "source": [
    "s=\"pwskills\""
   ]
  },
  {
   "cell_type": "code",
   "execution_count": 21,
   "id": "6793a7fe-9495-465f-8777-6ca9f0998ebe",
   "metadata": {},
   "outputs": [
    {
     "data": {
      "text/plain": [
       "'p'"
      ]
     },
     "execution_count": 21,
     "metadata": {},
     "output_type": "execute_result"
    }
   ],
   "source": [
    "s[0]"
   ]
  },
  {
   "cell_type": "code",
   "execution_count": 22,
   "id": "6cd16c87-58c3-4b46-96a7-a73debf0e36f",
   "metadata": {},
   "outputs": [
    {
     "ename": "TypeError",
     "evalue": "'str' object does not support item assignment",
     "output_type": "error",
     "traceback": [
      "\u001b[0;31m---------------------------------------------------------------------------\u001b[0m",
      "\u001b[0;31mTypeError\u001b[0m                                 Traceback (most recent call last)",
      "Cell \u001b[0;32mIn[22], line 1\u001b[0m\n\u001b[0;32m----> 1\u001b[0m \u001b[43ms\u001b[49m\u001b[43m[\u001b[49m\u001b[38;5;241;43m0\u001b[39;49m\u001b[43m]\u001b[49m\u001b[38;5;241m=\u001b[39m\u001b[38;5;124m'\u001b[39m\u001b[38;5;124ma\u001b[39m\u001b[38;5;124m'\u001b[39m\n",
      "\u001b[0;31mTypeError\u001b[0m: 'str' object does not support item assignment"
     ]
    }
   ],
   "source": [
    "s[0]='a'"
   ]
  },
  {
   "cell_type": "code",
   "execution_count": 23,
   "id": "d341aae5-2895-40a2-aa29-14b19330cc79",
   "metadata": {},
   "outputs": [],
   "source": [
    "# Mutable- List is mutable, it allows to change value of any element\n",
    "# Immutable- String is immutable, it do not allows to change character at any position"
   ]
  },
  {
   "cell_type": "code",
   "execution_count": 24,
   "id": "6e6ebad2-04b9-4bb6-b779-53fe0116b2a8",
   "metadata": {},
   "outputs": [
    {
     "data": {
      "text/plain": [
       "[1, 2, 4.5, 'lipika', True, (4+9j), 1, 2, 4.5, 'lipika', True, (4+9j)]"
      ]
     },
     "execution_count": 24,
     "metadata": {},
     "output_type": "execute_result"
    }
   ],
   "source": [
    "l2*2"
   ]
  },
  {
   "cell_type": "code",
   "execution_count": 25,
   "id": "2ffe66bd-3a3d-47f2-9325-0ab3af8a0d1f",
   "metadata": {},
   "outputs": [
    {
     "data": {
      "text/plain": [
       "'LipikaLipikaLipika'"
      ]
     },
     "execution_count": 25,
     "metadata": {},
     "output_type": "execute_result"
    }
   ],
   "source": [
    "s= \"Lipika\"\n",
    "s*3"
   ]
  },
  {
   "cell_type": "code",
   "execution_count": 26,
   "id": "5028628b-0049-4c90-b7d6-49af05122a18",
   "metadata": {},
   "outputs": [
    {
     "data": {
      "text/plain": [
       "[1, 2, 3, 4, 5, 1, 2, 4.5, 'lipika', True, (4+9j)]"
      ]
     },
     "execution_count": 26,
     "metadata": {},
     "output_type": "execute_result"
    }
   ],
   "source": [
    "#Appending a list in another list-- only a list be be concatenated\n",
    "l1 + l2"
   ]
  },
  {
   "cell_type": "code",
   "execution_count": 27,
   "id": "135a0001-07b4-4b2b-bcf8-e6917c0450ec",
   "metadata": {},
   "outputs": [
    {
     "data": {
      "text/plain": [
       "[1, 2, 3, 4, 5, 6]"
      ]
     },
     "execution_count": 27,
     "metadata": {},
     "output_type": "execute_result"
    }
   ],
   "source": [
    "l1 + [6]"
   ]
  },
  {
   "cell_type": "code",
   "execution_count": 28,
   "id": "449cab0f-d149-41e5-92a7-40845cd0e0d8",
   "metadata": {},
   "outputs": [
    {
     "data": {
      "text/plain": [
       "[1, 2, 4.5, 'lipika', True, (4+9j)]"
      ]
     },
     "execution_count": 28,
     "metadata": {},
     "output_type": "execute_result"
    }
   ],
   "source": [
    "l2"
   ]
  },
  {
   "cell_type": "code",
   "execution_count": 30,
   "id": "5fb85916-a501-4280-87fd-20f7b9274be5",
   "metadata": {},
   "outputs": [
    {
     "data": {
      "text/plain": [
       "6"
      ]
     },
     "execution_count": 30,
     "metadata": {},
     "output_type": "execute_result"
    }
   ],
   "source": [
    "# len function- calculates the length of list\n",
    "len(l2)"
   ]
  },
  {
   "cell_type": "code",
   "execution_count": 34,
   "id": "f2cd8e03-689c-48db-976f-0f8a0dced4e7",
   "metadata": {},
   "outputs": [
    {
     "data": {
      "text/plain": [
       "True"
      ]
     },
     "execution_count": 34,
     "metadata": {},
     "output_type": "execute_result"
    }
   ],
   "source": [
    "# in keywords helps in searching the elements in list-- Returns True or False\n",
    "'lipika' in l2"
   ]
  },
  {
   "cell_type": "code",
   "execution_count": 35,
   "id": "cdf22151-ab8b-4a8a-b5ed-b4862a6001c8",
   "metadata": {},
   "outputs": [
    {
     "data": {
      "text/plain": [
       "False"
      ]
     },
     "execution_count": 35,
     "metadata": {},
     "output_type": "execute_result"
    }
   ],
   "source": [
    "100 in l2"
   ]
  },
  {
   "cell_type": "code",
   "execution_count": 36,
   "id": "42e0ca2e-e423-4032-9995-928cb50241a5",
   "metadata": {},
   "outputs": [
    {
     "data": {
      "text/plain": [
       "[1, 2, 3, 4, 5]"
      ]
     },
     "execution_count": 36,
     "metadata": {},
     "output_type": "execute_result"
    }
   ],
   "source": [
    "l1"
   ]
  },
  {
   "cell_type": "code",
   "execution_count": 37,
   "id": "260b7728-60f1-431d-838b-300e97cc0e3a",
   "metadata": {},
   "outputs": [
    {
     "data": {
      "text/plain": [
       "5"
      ]
     },
     "execution_count": 37,
     "metadata": {},
     "output_type": "execute_result"
    }
   ],
   "source": [
    "# It gives the maximum element in list\n",
    "max(l1)"
   ]
  },
  {
   "cell_type": "code",
   "execution_count": 41,
   "id": "1055a5eb-c386-4f0f-8fc5-e5293706ed6e",
   "metadata": {},
   "outputs": [
    {
     "ename": "TypeError",
     "evalue": "'>' not supported between instances of 'str' and 'float'",
     "output_type": "error",
     "traceback": [
      "\u001b[0;31m---------------------------------------------------------------------------\u001b[0m",
      "\u001b[0;31mTypeError\u001b[0m                                 Traceback (most recent call last)",
      "Cell \u001b[0;32mIn[41], line 2\u001b[0m\n\u001b[1;32m      1\u001b[0m \u001b[38;5;66;03m# Gives error if the list contains different data types because max function can compare elements of same datatype\u001b[39;00m\n\u001b[0;32m----> 2\u001b[0m \u001b[38;5;28;43mmax\u001b[39;49m\u001b[43m(\u001b[49m\u001b[43ml2\u001b[49m\u001b[43m)\u001b[49m\n",
      "\u001b[0;31mTypeError\u001b[0m: '>' not supported between instances of 'str' and 'float'"
     ]
    }
   ],
   "source": [
    "# Gives error if the list contains different data types because max function can compare elements of same datatype\n",
    "max(l2)"
   ]
  },
  {
   "cell_type": "code",
   "execution_count": 42,
   "id": "002e81dd-5a0f-47b8-b29d-47f042bbb073",
   "metadata": {},
   "outputs": [],
   "source": [
    "l4= [\"lipika\",\"nikita\",\"komal\",\"avni\"]"
   ]
  },
  {
   "cell_type": "code",
   "execution_count": 43,
   "id": "8c74b149-e743-4e19-b0dd-a466f6d72d66",
   "metadata": {},
   "outputs": [
    {
     "data": {
      "text/plain": [
       "'nikita'"
      ]
     },
     "execution_count": 43,
     "metadata": {},
     "output_type": "execute_result"
    }
   ],
   "source": [
    "max(l4)"
   ]
  },
  {
   "cell_type": "code",
   "execution_count": 44,
   "id": "c5e2f605-8cd0-4486-83c2-cf338adf947d",
   "metadata": {},
   "outputs": [
    {
     "data": {
      "text/plain": [
       "'avni'"
      ]
     },
     "execution_count": 44,
     "metadata": {},
     "output_type": "execute_result"
    }
   ],
   "source": [
    "min(l4)"
   ]
  },
  {
   "cell_type": "code",
   "execution_count": 45,
   "id": "80f33725-e4d0-4eaf-8bf2-b19ef7c1e736",
   "metadata": {},
   "outputs": [
    {
     "data": {
      "text/plain": [
       "True"
      ]
     },
     "execution_count": 45,
     "metadata": {},
     "output_type": "execute_result"
    }
   ],
   "source": [
    "l5= [True, False]\n",
    "max(l5)"
   ]
  },
  {
   "cell_type": "code",
   "execution_count": 48,
   "id": "fe2d5063-d477-499f-827a-0826fd7964e5",
   "metadata": {},
   "outputs": [],
   "source": [
    "# append method- it adds element at end of list\n",
    "l4.append(True)"
   ]
  },
  {
   "cell_type": "code",
   "execution_count": 49,
   "id": "9a16c9fe-f700-42ff-b210-d9aceb622fc9",
   "metadata": {},
   "outputs": [
    {
     "data": {
      "text/plain": [
       "['lipika', 'nikita', 'komal', 'avni', True, True]"
      ]
     },
     "execution_count": 49,
     "metadata": {},
     "output_type": "execute_result"
    }
   ],
   "source": [
    "l4"
   ]
  },
  {
   "cell_type": "code",
   "execution_count": 63,
   "id": "1ad343a9-c441-47f8-9c5a-193d0f828f8d",
   "metadata": {},
   "outputs": [],
   "source": [
    "# insert function- this function is used ti insert in list at a specific position\n",
    "# It has two arguments- (index at which element is to be inserted, element)\n",
    "l1.insert(3, 800)"
   ]
  },
  {
   "cell_type": "code",
   "execution_count": 64,
   "id": "33d459dc-a326-484b-9e9a-9302a9b55fb0",
   "metadata": {},
   "outputs": [
    {
     "data": {
      "text/plain": [
       "[0.5, 1, 2, 800, 3]"
      ]
     },
     "execution_count": 64,
     "metadata": {},
     "output_type": "execute_result"
    }
   ],
   "source": [
    "l1"
   ]
  },
  {
   "cell_type": "code",
   "execution_count": 65,
   "id": "33357418-6033-4828-b244-2334fcf8e82b",
   "metadata": {},
   "outputs": [],
   "source": [
    "l1.insert(0, 0.5)"
   ]
  },
  {
   "cell_type": "code",
   "execution_count": 66,
   "id": "33059fa8-490f-48b3-85d6-fa4aca2590d8",
   "metadata": {},
   "outputs": [
    {
     "data": {
      "text/plain": [
       "[0.5, 0.5, 1, 2, 800, 3]"
      ]
     },
     "execution_count": 66,
     "metadata": {},
     "output_type": "execute_result"
    }
   ],
   "source": [
    "l1"
   ]
  },
  {
   "cell_type": "code",
   "execution_count": 67,
   "id": "59f12d6a-6639-446b-a342-6e44f90d0889",
   "metadata": {},
   "outputs": [
    {
     "data": {
      "text/plain": [
       "3"
      ]
     },
     "execution_count": 67,
     "metadata": {},
     "output_type": "execute_result"
    }
   ],
   "source": [
    "# pop function- it removes the element from the end of list by default because by default the value of parameter is -1\n",
    "# to remove element from specific position, give the index of element to be removed in parameters\n",
    "l1.pop()"
   ]
  },
  {
   "cell_type": "code",
   "execution_count": 68,
   "id": "7edb4c3e-752e-4157-9fd0-f1f1d8604a9f",
   "metadata": {},
   "outputs": [
    {
     "data": {
      "text/plain": [
       "[0.5, 0.5, 1, 2, 800]"
      ]
     },
     "execution_count": 68,
     "metadata": {},
     "output_type": "execute_result"
    }
   ],
   "source": [
    "l1"
   ]
  },
  {
   "cell_type": "code",
   "execution_count": 69,
   "id": "7f210b58-080e-4e49-8617-306d782d31b2",
   "metadata": {},
   "outputs": [
    {
     "data": {
      "text/plain": [
       "800"
      ]
     },
     "execution_count": 69,
     "metadata": {},
     "output_type": "execute_result"
    }
   ],
   "source": [
    "l1.pop(4)"
   ]
  },
  {
   "cell_type": "code",
   "execution_count": 70,
   "id": "fd77c779-6d77-4311-848a-afe6f747ca1b",
   "metadata": {},
   "outputs": [
    {
     "data": {
      "text/plain": [
       "[0.5, 0.5, 1, 2]"
      ]
     },
     "execution_count": 70,
     "metadata": {},
     "output_type": "execute_result"
    }
   ],
   "source": [
    "l1"
   ]
  },
  {
   "cell_type": "code",
   "execution_count": 3,
   "id": "5ceb796c-21a3-4cc7-905f-95d97644a31e",
   "metadata": {},
   "outputs": [],
   "source": [
    "l1=[1,2,3,4,5]"
   ]
  },
  {
   "cell_type": "code",
   "execution_count": 4,
   "id": "02d2d94a-5e0e-42e7-a728-de162916c83f",
   "metadata": {},
   "outputs": [],
   "source": [
    "# reverse function- reverses the list\n",
    "l1.reverse()"
   ]
  },
  {
   "cell_type": "code",
   "execution_count": 5,
   "id": "ce70eeb6-4a07-42dc-a8e8-a93e4af92cb3",
   "metadata": {},
   "outputs": [
    {
     "data": {
      "text/plain": [
       "[5, 4, 3, 2, 1]"
      ]
     },
     "execution_count": 5,
     "metadata": {},
     "output_type": "execute_result"
    }
   ],
   "source": [
    "l1"
   ]
  },
  {
   "cell_type": "code",
   "execution_count": 10,
   "id": "e4fc50ec-8fe1-41ec-8b89-b4169131eee0",
   "metadata": {},
   "outputs": [
    {
     "data": {
      "text/plain": [
       "[1, 2, 3, 4, 5]"
      ]
     },
     "execution_count": 10,
     "metadata": {},
     "output_type": "execute_result"
    }
   ],
   "source": [
    "# sort function- it sorts list in ascending order by default\n",
    "# for desc order write reverse=true in parametrs\n",
    "l1.sort()\n",
    "l1"
   ]
  },
  {
   "cell_type": "code",
   "execution_count": 11,
   "id": "c8958708-15dd-41d7-9653-72eb08b71e15",
   "metadata": {},
   "outputs": [],
   "source": [
    "l5=[6,2,9,5,0,2,4,0,10]\n",
    "l5.sort(reverse=True)"
   ]
  },
  {
   "cell_type": "code",
   "execution_count": 12,
   "id": "fc88080c-f54b-4cfa-a741-a3ab04aa67c6",
   "metadata": {},
   "outputs": [
    {
     "data": {
      "text/plain": [
       "[10, 9, 6, 5, 4, 2, 2, 0, 0]"
      ]
     },
     "execution_count": 12,
     "metadata": {},
     "output_type": "execute_result"
    }
   ],
   "source": [
    "l5"
   ]
  },
  {
   "cell_type": "code",
   "execution_count": 17,
   "id": "50c14349-aeda-4e88-ac2e-491174eaec01",
   "metadata": {},
   "outputs": [
    {
     "data": {
      "text/plain": [
       "[[1, 2, 3, 4, 5], [10, 9, 6, 5, 4, 2, 2, 0, 0]]"
      ]
     },
     "execution_count": 17,
     "metadata": {},
     "output_type": "execute_result"
    }
   ],
   "source": [
    "# nested list\n",
    "l6= [l1,l5]\n",
    "l6"
   ]
  },
  {
   "cell_type": "code",
   "execution_count": 18,
   "id": "8911c359-5332-4d4c-9d09-2e7b4f7f2515",
   "metadata": {},
   "outputs": [
    {
     "data": {
      "text/plain": [
       "2"
      ]
     },
     "execution_count": 18,
     "metadata": {},
     "output_type": "execute_result"
    }
   ],
   "source": [
    "len(l6)"
   ]
  },
  {
   "cell_type": "code",
   "execution_count": 19,
   "id": "35c68ced-8c52-446a-a810-96d94ce7840a",
   "metadata": {},
   "outputs": [
    {
     "data": {
      "text/plain": [
       "[10, 9, 6, 5, 4, 2, 2, 0, 0]"
      ]
     },
     "execution_count": 19,
     "metadata": {},
     "output_type": "execute_result"
    }
   ],
   "source": [
    "l6[1]"
   ]
  },
  {
   "cell_type": "code",
   "execution_count": 20,
   "id": "b73b85c3-d31f-4756-b603-712b5baed743",
   "metadata": {},
   "outputs": [
    {
     "data": {
      "text/plain": [
       "5"
      ]
     },
     "execution_count": 20,
     "metadata": {},
     "output_type": "execute_result"
    }
   ],
   "source": [
    "l6[1][3]"
   ]
  },
  {
   "cell_type": "code",
   "execution_count": null,
   "id": "a37d7851-3095-40af-8afb-936e548d1265",
   "metadata": {},
   "outputs": [],
   "source": []
  }
 ],
 "metadata": {
  "kernelspec": {
   "display_name": "Python 3 (ipykernel)",
   "language": "python",
   "name": "python3"
  },
  "language_info": {
   "codemirror_mode": {
    "name": "ipython",
    "version": 3
   },
   "file_extension": ".py",
   "mimetype": "text/x-python",
   "name": "python",
   "nbconvert_exporter": "python",
   "pygments_lexer": "ipython3",
   "version": "3.10.8"
  }
 },
 "nbformat": 4,
 "nbformat_minor": 5
}
