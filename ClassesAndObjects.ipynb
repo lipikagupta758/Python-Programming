{
 "cells": [
  {
   "cell_type": "code",
   "execution_count": 1,
   "id": "9e3bff03-8501-4e25-8e9c-e0d94bb6843a",
   "metadata": {},
   "outputs": [],
   "source": [
    "# Class- Classification of real world entity. User- defined Dataype. Eg: Cars, Human, Pen\n",
    "# Object- Instance/Variable of a class. It is a real world entity. Eg: Honda Car, Maruti Car are objects of class Car\n",
    "class Test:\n",
    "    pass"
   ]
  },
  {
   "cell_type": "code",
   "execution_count": 8,
   "id": "ec47e806-2e90-4e76-be8f-0b42dcd996ed",
   "metadata": {},
   "outputs": [],
   "source": [
    "class pwskills:\n",
    "    name= \"Lipika\"\n",
    "    \n",
    "    def welcome_msg(self):\n",
    "        print(\"Welcome to pwskills\")\n",
    "    "
   ]
  },
  {
   "cell_type": "code",
   "execution_count": 9,
   "id": "7c5266f4-2593-4da5-ae34-5fad15960f7b",
   "metadata": {},
   "outputs": [],
   "source": [
    "# Object is created of pwskills class\n",
    "pw1= pwskills() "
   ]
  },
  {
   "cell_type": "code",
   "execution_count": 10,
   "id": "fc0285f5-b485-45f7-8840-ed1eab295bc5",
   "metadata": {},
   "outputs": [
    {
     "name": "stdout",
     "output_type": "stream",
     "text": [
      "Welcome to pwskills\n"
     ]
    }
   ],
   "source": [
    "pw1.welcome_msg()"
   ]
  },
  {
   "cell_type": "code",
   "execution_count": 11,
   "id": "30aaf6c8-0429-4761-8d3a-7bbc913e79e3",
   "metadata": {},
   "outputs": [
    {
     "data": {
      "text/plain": [
       "'Lipika'"
      ]
     },
     "execution_count": 11,
     "metadata": {},
     "output_type": "execute_result"
    }
   ],
   "source": [
    "pw1.name"
   ]
  },
  {
   "cell_type": "code",
   "execution_count": 28,
   "id": "e8f96071-f25b-42e9-8327-2179a9550419",
   "metadata": {},
   "outputs": [],
   "source": [
    "class pwskills1:\n",
    "#     Constructor-- init method\n",
    "    def __init__(self, c, dur, m):\n",
    "        self.course= c\n",
    "        self.duration= dur\n",
    "        self.mentor= m\n",
    "        \n",
    "    def show_mentor(self):\n",
    "        print(\"Your mentor is :\", self.mentor)"
   ]
  },
  {
   "cell_type": "code",
   "execution_count": 29,
   "id": "a81f5994-00cd-4a08-925f-cd9eef6667cb",
   "metadata": {},
   "outputs": [
    {
     "ename": "TypeError",
     "evalue": "pwskills1.__init__() missing 3 required positional arguments: 'c', 'dur', and 'm'",
     "output_type": "error",
     "traceback": [
      "\u001b[0;31m---------------------------------------------------------------------------\u001b[0m",
      "\u001b[0;31mTypeError\u001b[0m                                 Traceback (most recent call last)",
      "Cell \u001b[0;32mIn[29], line 1\u001b[0m\n\u001b[0;32m----> 1\u001b[0m pw2\u001b[38;5;241m=\u001b[39m \u001b[43mpwskills1\u001b[49m\u001b[43m(\u001b[49m\u001b[43m)\u001b[49m\n",
      "\u001b[0;31mTypeError\u001b[0m: pwskills1.__init__() missing 3 required positional arguments: 'c', 'dur', and 'm'"
     ]
    }
   ],
   "source": [
    "pw2= pwskills1()"
   ]
  },
  {
   "cell_type": "code",
   "execution_count": 30,
   "id": "18d4c521-5ab3-46d9-a073-338f4278f546",
   "metadata": {},
   "outputs": [],
   "source": [
    "pw2= pwskills1(\"Python\", 10, \"Sudhanshu\")"
   ]
  },
  {
   "cell_type": "code",
   "execution_count": 31,
   "id": "523583c2-b2ed-4595-87c1-ed450dd39664",
   "metadata": {},
   "outputs": [],
   "source": [
    "pw3= pwskills1(\"DSA in Java\", 60, \"Kunal\")"
   ]
  },
  {
   "cell_type": "code",
   "execution_count": 32,
   "id": "5aea805e-f0da-43c9-b6df-afe8d6872f05",
   "metadata": {},
   "outputs": [
    {
     "data": {
      "text/plain": [
       "'Python'"
      ]
     },
     "execution_count": 32,
     "metadata": {},
     "output_type": "execute_result"
    }
   ],
   "source": [
    "pw2.course"
   ]
  },
  {
   "cell_type": "code",
   "execution_count": 33,
   "id": "4216b9a8-e216-4a85-aa23-753bb6e3ab33",
   "metadata": {},
   "outputs": [
    {
     "name": "stdout",
     "output_type": "stream",
     "text": [
      "Your mentor is : Sudhanshu\n"
     ]
    }
   ],
   "source": [
    "pw2.show_mentor()"
   ]
  },
  {
   "cell_type": "code",
   "execution_count": 34,
   "id": "94abf812-af23-4cbf-a0e3-04a383fc5108",
   "metadata": {},
   "outputs": [
    {
     "name": "stdout",
     "output_type": "stream",
     "text": [
      "Your mentor is : Kunal\n"
     ]
    }
   ],
   "source": [
    "pw3.show_mentor()"
   ]
  },
  {
   "cell_type": "raw",
   "id": "533823af-13c2-4275-9438-305d5c604b53",
   "metadata": {},
   "source": [
    " Principles of OOPS/ Four Pillars of OOPS\n",
    " 1. Inheritance\n",
    " 2. Polymorphism\n",
    " 3. Data Abstraction"
   ]
  },
  {
   "cell_type": "code",
   "execution_count": 94,
   "id": "6a9b907e-9d42-415c-8249-422cb44983bc",
   "metadata": {},
   "outputs": [],
   "source": [
    "#1. Inheritance\n",
    "# Parent Class\n",
    "class pwskills:\n",
    "    def pwskills(self):\n",
    "        print(\"Welcome to pwskills class method\")"
   ]
  },
  {
   "cell_type": "code",
   "execution_count": 41,
   "id": "a76aad96-fcf6-4be4-b616-ea72fa078a74",
   "metadata": {},
   "outputs": [],
   "source": [
    "# Child class\n",
    "class Student(pwskills):\n",
    "    pass"
   ]
  },
  {
   "cell_type": "code",
   "execution_count": 42,
   "id": "8adefbe0-9d77-4853-afd0-35f56078dcbe",
   "metadata": {},
   "outputs": [],
   "source": [
    "stud= Student()"
   ]
  },
  {
   "cell_type": "code",
   "execution_count": 43,
   "id": "a5093e8b-b9cd-4d29-b136-0716a352f285",
   "metadata": {},
   "outputs": [
    {
     "name": "stdout",
     "output_type": "stream",
     "text": [
      "Welcome to pwskills class method\n"
     ]
    }
   ],
   "source": [
    "stud.pwskills()"
   ]
  },
  {
   "cell_type": "code",
   "execution_count": 95,
   "id": "3231c946-cb0f-431f-86b4-6d7663207901",
   "metadata": {},
   "outputs": [],
   "source": [
    "# Single Inheritance\n",
    "class mentor:\n",
    "    var= 10\n",
    "    def __init__(self, m_name, m_emailId, m_contact):\n",
    "        self.name= m_name\n",
    "        self.emailId= m_emailId\n",
    "        self.contact= m_contact\n",
    "        \n",
    "    def print_mentor_details(self):\n",
    "        print(self.name, self.emailId, self.contact)"
   ]
  },
  {
   "cell_type": "code",
   "execution_count": 53,
   "id": "4a255455-d0ce-4eb1-adf2-a7364c5f99d4",
   "metadata": {},
   "outputs": [],
   "source": [
    "class dsa(mentor):\n",
    "    def print_dsa(self):\n",
    "        print(\"This is DSA class\")"
   ]
  },
  {
   "cell_type": "code",
   "execution_count": 54,
   "id": "f538a458-5b0a-4ad8-9349-708ba1f43ae5",
   "metadata": {},
   "outputs": [
    {
     "ename": "TypeError",
     "evalue": "mentor.__init__() missing 3 required positional arguments: 'm_name', 'm_emailId', and 'm_contact'",
     "output_type": "error",
     "traceback": [
      "\u001b[0;31m---------------------------------------------------------------------------\u001b[0m",
      "\u001b[0;31mTypeError\u001b[0m                                 Traceback (most recent call last)",
      "Cell \u001b[0;32mIn[54], line 1\u001b[0m\n\u001b[0;32m----> 1\u001b[0m dsa1\u001b[38;5;241m=\u001b[39m \u001b[43mdsa\u001b[49m\u001b[43m(\u001b[49m\u001b[43m)\u001b[49m\n",
      "\u001b[0;31mTypeError\u001b[0m: mentor.__init__() missing 3 required positional arguments: 'm_name', 'm_emailId', and 'm_contact'"
     ]
    }
   ],
   "source": [
    "dsa1= dsa()"
   ]
  },
  {
   "cell_type": "code",
   "execution_count": 55,
   "id": "f0929123-b47e-41af-bc62-a3b2ccb1209b",
   "metadata": {},
   "outputs": [],
   "source": [
    "dsa1= dsa(\"Kunal\", \"kunal@gmail.com\", 9873546701)"
   ]
  },
  {
   "cell_type": "code",
   "execution_count": 56,
   "id": "c841cf8e-db3f-4964-bb82-9849f2427456",
   "metadata": {},
   "outputs": [
    {
     "name": "stdout",
     "output_type": "stream",
     "text": [
      "Kunal kunal@gmail.com 9873546701\n"
     ]
    }
   ],
   "source": [
    "dsa1.print_mentor_details()"
   ]
  },
  {
   "cell_type": "code",
   "execution_count": 57,
   "id": "9f406773-bd63-4c31-aada-fe13680af6e7",
   "metadata": {},
   "outputs": [
    {
     "name": "stdout",
     "output_type": "stream",
     "text": [
      "This is DSA class\n"
     ]
    }
   ],
   "source": [
    "dsa1.print_dsa()"
   ]
  },
  {
   "cell_type": "code",
   "execution_count": 58,
   "id": "34360036-ea02-4645-9a8e-d4af0740f6b2",
   "metadata": {},
   "outputs": [
    {
     "data": {
      "text/plain": [
       "'Kunal'"
      ]
     },
     "execution_count": 58,
     "metadata": {},
     "output_type": "execute_result"
    }
   ],
   "source": [
    "dsa1.name"
   ]
  },
  {
   "cell_type": "code",
   "execution_count": 59,
   "id": "d8caac13-f6e0-46e5-b1a3-1ce87a6e94cf",
   "metadata": {},
   "outputs": [
    {
     "data": {
      "text/plain": [
       "10"
      ]
     },
     "execution_count": 59,
     "metadata": {},
     "output_type": "execute_result"
    }
   ],
   "source": [
    "dsa1.var"
   ]
  },
  {
   "cell_type": "code",
   "execution_count": 66,
   "id": "97796d99-17a1-45c8-8545-b28d6bb5084a",
   "metadata": {},
   "outputs": [],
   "source": [
    "class xyz:\n",
    "    def test(self):\n",
    "        print(\"This is part of xyz class\")\n",
    "class child(xyz):\n",
    "\n",
    "    def test(self):     # Method overriding\n",
    "        super().test()    # Parent's class test method is called\n",
    "        print(\"This is part of child class\")"
   ]
  },
  {
   "cell_type": "code",
   "execution_count": 67,
   "id": "dcf10ab3-13bb-4e19-95a9-86d803abfb1a",
   "metadata": {},
   "outputs": [],
   "source": [
    "obj_child= child()"
   ]
  },
  {
   "cell_type": "code",
   "execution_count": 68,
   "id": "aab104c7-dbf9-4955-a826-c00373318de3",
   "metadata": {},
   "outputs": [
    {
     "name": "stdout",
     "output_type": "stream",
     "text": [
      "This is part of xyz class\n",
      "This is part of child class\n"
     ]
    }
   ],
   "source": [
    "obj_child.test()"
   ]
  },
  {
   "cell_type": "code",
   "execution_count": 82,
   "id": "06ef905f-e926-44b5-847b-0c65dff07764",
   "metadata": {},
   "outputs": [],
   "source": [
    "# Hierarchial Inheritance\n",
    "class c1:\n",
    "    def meth_c1(self):\n",
    "        print(\"This is part of c1\")\n",
    "        \n",
    "class c2(c1):  \n",
    "    def meth_c2(self):\n",
    "        print(\"This is part of c2\")\n",
    "        \n",
    "class c3(c1):\n",
    "    def meth_c3(self):\n",
    "        print(\"This is part of c3\")\n",
    "    "
   ]
  },
  {
   "cell_type": "code",
   "execution_count": 83,
   "id": "593fa5d7-d862-40d8-95bf-10054d6e1264",
   "metadata": {},
   "outputs": [],
   "source": [
    "obj_c2= c2()\n",
    "obj_c3= c3()"
   ]
  },
  {
   "cell_type": "code",
   "execution_count": 84,
   "id": "4796cad2-4893-4580-8442-28d0d2272541",
   "metadata": {},
   "outputs": [
    {
     "name": "stdout",
     "output_type": "stream",
     "text": [
      "This is part of c1\n"
     ]
    }
   ],
   "source": [
    "obj_c2.meth_c1()"
   ]
  },
  {
   "cell_type": "code",
   "execution_count": 85,
   "id": "0e71ff28-12d7-48da-8fb6-6029518a2936",
   "metadata": {},
   "outputs": [
    {
     "name": "stdout",
     "output_type": "stream",
     "text": [
      "This is part of c1\n"
     ]
    }
   ],
   "source": [
    "obj_c3.meth_c1()"
   ]
  },
  {
   "cell_type": "code",
   "execution_count": 86,
   "id": "ef792159-7911-4d55-b7cf-e20220ab96f9",
   "metadata": {},
   "outputs": [],
   "source": [
    "# Mutliple Inheritance\n",
    "class c1:\n",
    "    def meth_c1(self):\n",
    "        print(\"This is part of c1\")\n",
    "        \n",
    "class c2:  \n",
    "    def meth_c2(self):\n",
    "        print(\"This is part of c2\")\n",
    "        \n",
    "class c3(c1, c2):\n",
    "    def meth_c3(self):\n",
    "        print(\"This is part of c3\")"
   ]
  },
  {
   "cell_type": "code",
   "execution_count": 87,
   "id": "cb2b421d-fd6b-4279-8add-a619bb32ad8c",
   "metadata": {},
   "outputs": [],
   "source": [
    "obj_c3= c3()"
   ]
  },
  {
   "cell_type": "code",
   "execution_count": 88,
   "id": "8d9ded14-443a-48d5-bf18-13ab0562fccc",
   "metadata": {},
   "outputs": [
    {
     "name": "stdout",
     "output_type": "stream",
     "text": [
      "This is part of c1\n",
      "This is part of c2\n"
     ]
    }
   ],
   "source": [
    "obj_c3.meth_c1()\n",
    "obj_c3.meth_c2()"
   ]
  },
  {
   "cell_type": "code",
   "execution_count": 2,
   "id": "6063ab76-75bc-41a3-9edf-ab7a69c5be9f",
   "metadata": {},
   "outputs": [],
   "source": [
    "class c1:\n",
    "    def test(self):\n",
    "        print(\"This is part of c1\")\n",
    "        \n",
    "class c2:  \n",
    "    def test(self):\n",
    "        print(\"This is part of c2\")\n",
    "        \n",
    "class c3(c1, c2):\n",
    "    pass    "
   ]
  },
  {
   "cell_type": "code",
   "execution_count": 3,
   "id": "590e4cf5-f723-40d2-9530-b061b1eda11c",
   "metadata": {},
   "outputs": [
    {
     "name": "stdout",
     "output_type": "stream",
     "text": [
      "This is part of c1\n"
     ]
    }
   ],
   "source": [
    "obj_c3= c3()\n",
    "obj_c3.test()   #Priority of c1 is greater than c2-- it is called method resoluion order(MRO)"
   ]
  },
  {
   "cell_type": "code",
   "execution_count": 92,
   "id": "da71f1b3-f11c-4beb-8645-613738da14d9",
   "metadata": {},
   "outputs": [],
   "source": [
    "class c1:\n",
    "    def test(self):\n",
    "        print(\"This is part of c1\")\n",
    "        \n",
    "class c2:  \n",
    "    def test(self):\n",
    "        print(\"This is part of c2\")\n",
    "        \n",
    "class c3(c2, c1):\n",
    "    pass    "
   ]
  },
  {
   "cell_type": "code",
   "execution_count": 93,
   "id": "ec33f03c-1545-4dcd-bced-d0e899c0221c",
   "metadata": {},
   "outputs": [
    {
     "name": "stdout",
     "output_type": "stream",
     "text": [
      "This is part of c2\n"
     ]
    }
   ],
   "source": [
    "obj_c3= c3()\n",
    "obj_c3.test()"
   ]
  },
  {
   "cell_type": "code",
   "execution_count": 96,
   "id": "04804969-6e4a-4eaa-80d9-7e98ec10f329",
   "metadata": {},
   "outputs": [],
   "source": [
    "# 2. Polymorphism\n",
    "def test(a,b):\n",
    "    return a+b"
   ]
  },
  {
   "cell_type": "code",
   "execution_count": 97,
   "id": "e00e6308-8461-43af-86ac-c6f863b59a75",
   "metadata": {},
   "outputs": [
    {
     "data": {
      "text/plain": [
       "7"
      ]
     },
     "execution_count": 97,
     "metadata": {},
     "output_type": "execute_result"
    }
   ],
   "source": [
    "test(3,4)"
   ]
  },
  {
   "cell_type": "code",
   "execution_count": 98,
   "id": "61c212b3-b956-4530-bd3d-a2fd5371bfa5",
   "metadata": {},
   "outputs": [
    {
     "data": {
      "text/plain": [
       "'Lipika Gupta'"
      ]
     },
     "execution_count": 98,
     "metadata": {},
     "output_type": "execute_result"
    }
   ],
   "source": [
    "test(\"Lipika \", \"Gupta\")"
   ]
  },
  {
   "cell_type": "code",
   "execution_count": 99,
   "id": "111fd30a-d3dd-49da-8e70-379e1e381685",
   "metadata": {},
   "outputs": [],
   "source": [
    "class dsa:\n",
    "    def test(self):\n",
    "        print(\"This is dsa class\")\n",
    "\n",
    "class web_dev:\n",
    "    def test(self):\n",
    "        print(\"This is web dev class\")\n",
    "        \n",
    "def test_with(x):\n",
    "    x.test()"
   ]
  },
  {
   "cell_type": "code",
   "execution_count": 100,
   "id": "11dc7308-4270-4187-beaa-6ef77c124e0f",
   "metadata": {},
   "outputs": [],
   "source": [
    "obj_dsa= dsa()\n",
    "obj_web_dev= web_dev()"
   ]
  },
  {
   "cell_type": "code",
   "execution_count": 101,
   "id": "a56f41a1-66bb-43dc-9028-9e9de0ea22f9",
   "metadata": {},
   "outputs": [
    {
     "name": "stdout",
     "output_type": "stream",
     "text": [
      "This is dsa class\n"
     ]
    }
   ],
   "source": [
    "test_with(obj_dsa)"
   ]
  },
  {
   "cell_type": "code",
   "execution_count": 102,
   "id": "f79b37b9-2b00-463e-bed2-8158c78b5ca8",
   "metadata": {},
   "outputs": [
    {
     "name": "stdout",
     "output_type": "stream",
     "text": [
      "This is web dev class\n"
     ]
    }
   ],
   "source": [
    "test_with(obj_web_dev)"
   ]
  },
  {
   "cell_type": "code",
   "execution_count": 2,
   "id": "c9fc79a8-a890-4f4a-ae05-0b528d712176",
   "metadata": {},
   "outputs": [],
   "source": [
    "# Access Modifiers- private, protected, public\n",
    "class mentor:\n",
    "    var= 10\n",
    "    def __init__(self, m_name, m_emailId, m_contact):\n",
    "        self._name= m_name   #_ before variable makes it protected\n",
    "        self.emailId= m_emailId\n",
    "        self.__contact= m_contact #__ before variable makes it private\n",
    "        \n",
    "    def print_mentor_details(self):\n",
    "        print(self._name, self.emailId, self.__contact)"
   ]
  },
  {
   "cell_type": "code",
   "execution_count": 127,
   "id": "de259b09-bfb4-4d83-8d5d-c992d22866c1",
   "metadata": {},
   "outputs": [],
   "source": [
    "obj_mentor= mentor(\"Kunal\", \"kunal@gmail.com\", 9873641230)"
   ]
  },
  {
   "cell_type": "code",
   "execution_count": 128,
   "id": "c4e9fbfc-7ffb-40e2-92f2-d89c65edff62",
   "metadata": {},
   "outputs": [
    {
     "ename": "AttributeError",
     "evalue": "'mentor' object has no attribute 'name'",
     "output_type": "error",
     "traceback": [
      "\u001b[0;31m---------------------------------------------------------------------------\u001b[0m",
      "\u001b[0;31mAttributeError\u001b[0m                            Traceback (most recent call last)",
      "Cell \u001b[0;32mIn[128], line 1\u001b[0m\n\u001b[0;32m----> 1\u001b[0m \u001b[43mobj_mentor\u001b[49m\u001b[38;5;241;43m.\u001b[39;49m\u001b[43mname\u001b[49m\n",
      "\u001b[0;31mAttributeError\u001b[0m: 'mentor' object has no attribute 'name'"
     ]
    }
   ],
   "source": [
    "obj_mentor.name"
   ]
  },
  {
   "cell_type": "code",
   "execution_count": 129,
   "id": "d3c96cfd-2bdc-4ec2-ac70-3fa6c3d59c32",
   "metadata": {},
   "outputs": [
    {
     "data": {
      "text/plain": [
       "'Kunal'"
      ]
     },
     "execution_count": 129,
     "metadata": {},
     "output_type": "execute_result"
    }
   ],
   "source": [
    "obj_mentor._name  #In python, you can access variable of any data type. It is just that you can access the variable with with accesss modifier"
   ]
  },
  {
   "cell_type": "code",
   "execution_count": 131,
   "id": "a4f3f630-6159-4f88-88a4-eff2d53a9fb0",
   "metadata": {},
   "outputs": [
    {
     "ename": "AttributeError",
     "evalue": "'mentor' object has no attribute 'contact'",
     "output_type": "error",
     "traceback": [
      "\u001b[0;31m---------------------------------------------------------------------------\u001b[0m",
      "\u001b[0;31mAttributeError\u001b[0m                            Traceback (most recent call last)",
      "Cell \u001b[0;32mIn[131], line 1\u001b[0m\n\u001b[0;32m----> 1\u001b[0m \u001b[43mobj_mentor\u001b[49m\u001b[38;5;241;43m.\u001b[39;49m\u001b[43mcontact\u001b[49m\n",
      "\u001b[0;31mAttributeError\u001b[0m: 'mentor' object has no attribute 'contact'"
     ]
    }
   ],
   "source": [
    "obj_mentor.contact"
   ]
  },
  {
   "cell_type": "code",
   "execution_count": 1,
   "id": "70f110c1-c03e-40a9-936a-80dd13b075ec",
   "metadata": {},
   "outputs": [
    {
     "ename": "NameError",
     "evalue": "name 'obj_mentor' is not defined",
     "output_type": "error",
     "traceback": [
      "\u001b[0;31m---------------------------------------------------------------------------\u001b[0m",
      "\u001b[0;31mNameError\u001b[0m                                 Traceback (most recent call last)",
      "Cell \u001b[0;32mIn[1], line 1\u001b[0m\n\u001b[0;32m----> 1\u001b[0m \u001b[43mobj_mentor\u001b[49m\u001b[38;5;241m.\u001b[39m__contact   \u001b[38;5;66;03m#Cannot be accessed even with calling it from access modifier\u001b[39;00m\n",
      "\u001b[0;31mNameError\u001b[0m: name 'obj_mentor' is not defined"
     ]
    }
   ],
   "source": [
    "obj_mentor.__contact   #Cannot be accessed even with calling it from access modifier"
   ]
  },
  {
   "cell_type": "code",
   "execution_count": 130,
   "id": "42e3adc2-ca68-455b-a7b3-f380416147b1",
   "metadata": {},
   "outputs": [
    {
     "name": "stdout",
     "output_type": "stream",
     "text": [
      "Kunal kunal@gmail.com 9873641230\n"
     ]
    }
   ],
   "source": [
    "obj_mentor.print_mentor_details()"
   ]
  },
  {
   "cell_type": "code",
   "execution_count": 135,
   "id": "fbe0ee0c-afbe-45b4-92d9-fcc386ea216f",
   "metadata": {},
   "outputs": [
    {
     "data": {
      "text/plain": [
       "9873641230"
      ]
     },
     "execution_count": 135,
     "metadata": {},
     "output_type": "execute_result"
    }
   ],
   "source": [
    "obj_mentor._mentor__contact  #Can access private variable with _classname followed by __variablename"
   ]
  },
  {
   "cell_type": "code",
   "execution_count": 136,
   "id": "019c450e-0eee-4022-af0c-f0fbb81bd16c",
   "metadata": {},
   "outputs": [],
   "source": [
    "# 3. Data Abstraction\n",
    "from abc import ABC, abstractmethod, abstractproperty"
   ]
  },
  {
   "cell_type": "code",
   "execution_count": 138,
   "id": "2b692ff1-f80e-4906-a9ec-63c399c91e1e",
   "metadata": {},
   "outputs": [],
   "source": [
    "class pwskills(ABC):\n",
    "    @abstractproperty\n",
    "    def dsa_class(self):\n",
    "        pass\n",
    "    @abstractproperty\n",
    "    def mentor_name(self):\n",
    "        pass\n",
    "    @abstractproperty\n",
    "    def class_material(self):\n",
    "        pass"
   ]
  },
  {
   "cell_type": "code",
   "execution_count": 141,
   "id": "a1f5a917-63ae-49f2-9186-7d7f34eaee91",
   "metadata": {},
   "outputs": [],
   "source": [
    "class pwskills_mentor(pwskills):\n",
    "    @property\n",
    "    def dsa_class(self):\n",
    "        print(\"This is function of dsa class\")\n",
    "    @property\n",
    "    def mentor_name(self):\n",
    "        print(\"This is function of mentor name\")\n",
    "    @property\n",
    "    def class_material(self):\n",
    "        pass"
   ]
  },
  {
   "cell_type": "code",
   "execution_count": 142,
   "id": "c25964a8-86cc-4961-90ef-3a3c5f53f819",
   "metadata": {},
   "outputs": [],
   "source": [
    "obj_pwskills_mentor= pwskills_mentor()"
   ]
  },
  {
   "cell_type": "code",
   "execution_count": 143,
   "id": "7d85d419-99b4-4768-ae11-6ac0f2f653b6",
   "metadata": {},
   "outputs": [
    {
     "name": "stdout",
     "output_type": "stream",
     "text": [
      "This is function of dsa class\n"
     ]
    },
    {
     "ename": "TypeError",
     "evalue": "'NoneType' object is not callable",
     "output_type": "error",
     "traceback": [
      "\u001b[0;31m---------------------------------------------------------------------------\u001b[0m",
      "\u001b[0;31mTypeError\u001b[0m                                 Traceback (most recent call last)",
      "Cell \u001b[0;32mIn[143], line 1\u001b[0m\n\u001b[0;32m----> 1\u001b[0m \u001b[43mobj_pwskills_mentor\u001b[49m\u001b[38;5;241;43m.\u001b[39;49m\u001b[43mdsa_class\u001b[49m\u001b[43m(\u001b[49m\u001b[43m)\u001b[49m\n",
      "\u001b[0;31mTypeError\u001b[0m: 'NoneType' object is not callable"
     ]
    }
   ],
   "source": [
    "obj_pwskills_mentor.dsa_class()"
   ]
  },
  {
   "cell_type": "code",
   "execution_count": null,
   "id": "dd611402-2e00-4ad5-8ec8-09b93d2db28c",
   "metadata": {},
   "outputs": [],
   "source": []
  }
 ],
 "metadata": {
  "kernelspec": {
   "display_name": "Python 3 (ipykernel)",
   "language": "python",
   "name": "python3"
  },
  "language_info": {
   "codemirror_mode": {
    "name": "ipython",
    "version": 3
   },
   "file_extension": ".py",
   "mimetype": "text/x-python",
   "name": "python",
   "nbconvert_exporter": "python",
   "pygments_lexer": "ipython3",
   "version": "3.10.8"
  }
 },
 "nbformat": 4,
 "nbformat_minor": 5
}
