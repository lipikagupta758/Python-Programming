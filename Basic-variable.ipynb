{
 "cells": [
  {
   "cell_type": "code",
   "execution_count": 1,
   "id": "c61f9286-a0fe-485f-bf65-2b7a54868e73",
   "metadata": {},
   "outputs": [
    {
     "data": {
      "text/plain": [
       "3"
      ]
     },
     "execution_count": 1,
     "metadata": {},
     "output_type": "execute_result"
    }
   ],
   "source": [
    "1+2"
   ]
  },
  {
   "cell_type": "code",
   "execution_count": 2,
   "id": "7b3b8efc-fef5-45a7-98fc-1352e607dd9b",
   "metadata": {},
   "outputs": [
    {
     "data": {
      "text/plain": [
       "11"
      ]
     },
     "execution_count": 2,
     "metadata": {},
     "output_type": "execute_result"
    }
   ],
   "source": [
    "5+6"
   ]
  },
  {
   "cell_type": "code",
   "execution_count": 5,
   "id": "fe847c58-383f-4368-b180-977d5420ddfc",
   "metadata": {},
   "outputs": [],
   "source": [
    "# Variable declaration\n",
    "a=2"
   ]
  },
  {
   "cell_type": "code",
   "execution_count": 6,
   "id": "e726931b-2d17-47af-8455-c4334f9a2a92",
   "metadata": {},
   "outputs": [
    {
     "data": {
      "text/plain": [
       "2"
      ]
     },
     "execution_count": 6,
     "metadata": {},
     "output_type": "execute_result"
    }
   ],
   "source": [
    "a"
   ]
  },
  {
   "cell_type": "code",
   "execution_count": 7,
   "id": "a4c85043-932b-40ff-b092-5400d98a3c0e",
   "metadata": {},
   "outputs": [
    {
     "data": {
      "text/plain": [
       "int"
      ]
     },
     "execution_count": 7,
     "metadata": {},
     "output_type": "execute_result"
    }
   ],
   "source": [
    "# Built-in function\n",
    "type(a)"
   ]
  },
  {
   "cell_type": "code",
   "execution_count": 8,
   "id": "0c1d4e57-5695-494f-af31-703cbd064f4e",
   "metadata": {},
   "outputs": [],
   "source": [
    "b= 45.34"
   ]
  },
  {
   "cell_type": "code",
   "execution_count": 9,
   "id": "ee8297a3-8e60-4082-a03f-5b65fdcdb96c",
   "metadata": {},
   "outputs": [
    {
     "data": {
      "text/plain": [
       "float"
      ]
     },
     "execution_count": 9,
     "metadata": {},
     "output_type": "execute_result"
    }
   ],
   "source": [
    "type(b)"
   ]
  },
  {
   "cell_type": "code",
   "execution_count": 12,
   "id": "075a05b0-a88b-4a2f-9918-dedaa5a245bd",
   "metadata": {},
   "outputs": [],
   "source": [
    "# Overriding the value of variable. Dereferenced the va;ue of a as 2.\n",
    "a= 10"
   ]
  },
  {
   "cell_type": "code",
   "execution_count": 13,
   "id": "36b9ad2f-f155-4ded-95b6-4fc9e2275d74",
   "metadata": {},
   "outputs": [
    {
     "data": {
      "text/plain": [
       "10"
      ]
     },
     "execution_count": 13,
     "metadata": {},
     "output_type": "execute_result"
    }
   ],
   "source": [
    "a"
   ]
  },
  {
   "cell_type": "code",
   "execution_count": 14,
   "id": "0353c7a7-2d13-4f1e-9455-2401269c860d",
   "metadata": {},
   "outputs": [],
   "source": [
    "a= 345.456456"
   ]
  },
  {
   "cell_type": "raw",
   "id": "422e8248-c09f-43e6-9e9f-56d3c96ee8b6",
   "metadata": {},
   "source": [
    "Here, python automatically calls garbage collector and the value 2 and 10 will be removed from memory. "
   ]
  },
  {
   "cell_type": "code",
   "execution_count": 18,
   "id": "6cdcc287-ec89-4698-929a-b79513aadb8d",
   "metadata": {
    "tags": []
   },
   "outputs": [
    {
     "data": {
      "text/plain": [
       "'Lipika'"
      ]
     },
     "execution_count": 18,
     "metadata": {},
     "output_type": "execute_result"
    }
   ],
   "source": [
    "# String\n",
    "s= \"Lipika\"\n",
    "s2= 'Nikita'\n",
    "s"
   ]
  },
  {
   "cell_type": "code",
   "execution_count": 19,
   "id": "687ad9a5-e0f4-4121-8b20-0efe5231c369",
   "metadata": {},
   "outputs": [
    {
     "data": {
      "text/plain": [
       "'Nikita'"
      ]
     },
     "execution_count": 19,
     "metadata": {},
     "output_type": "execute_result"
    }
   ],
   "source": [
    "s2"
   ]
  },
  {
   "cell_type": "code",
   "execution_count": 20,
   "id": "6a2b53cf-b687-45f9-b779-dd390a6c5084",
   "metadata": {},
   "outputs": [
    {
     "data": {
      "text/plain": [
       "str"
      ]
     },
     "execution_count": 20,
     "metadata": {},
     "output_type": "execute_result"
    }
   ],
   "source": [
    "type(s)"
   ]
  },
  {
   "cell_type": "code",
   "execution_count": 21,
   "id": "20eb8799-e9af-49de-b9fa-ae8fc3aec696",
   "metadata": {},
   "outputs": [
    {
     "data": {
      "text/plain": [
       "str"
      ]
     },
     "execution_count": 21,
     "metadata": {},
     "output_type": "execute_result"
    }
   ],
   "source": [
    "type(s2)"
   ]
  },
  {
   "cell_type": "code",
   "execution_count": 30,
   "id": "2736225f-0d57-4313-8e28-932fc32c7240",
   "metadata": {},
   "outputs": [
    {
     "data": {
      "text/plain": [
       "bool"
      ]
     },
     "execution_count": 30,
     "metadata": {},
     "output_type": "execute_result"
    }
   ],
   "source": [
    "# Boolean-- True(1), False(0)\n",
    "b1= True \n",
    "type(b1)"
   ]
  },
  {
   "cell_type": "code",
   "execution_count": 31,
   "id": "1de18b21-2d59-4aa9-9a2a-073d80c9523c",
   "metadata": {},
   "outputs": [
    {
     "data": {
      "text/plain": [
       "bool"
      ]
     },
     "execution_count": 31,
     "metadata": {},
     "output_type": "execute_result"
    }
   ],
   "source": [
    "b2= False\n",
    "type(b2)"
   ]
  },
  {
   "cell_type": "code",
   "execution_count": 32,
   "id": "57e3e96a-51b4-4508-85f1-35cdca73112d",
   "metadata": {},
   "outputs": [
    {
     "data": {
      "text/plain": [
       "1"
      ]
     },
     "execution_count": 32,
     "metadata": {},
     "output_type": "execute_result"
    }
   ],
   "source": [
    "b1-b2"
   ]
  },
  {
   "cell_type": "code",
   "execution_count": 33,
   "id": "569819d2-443f-4225-906e-6d1f85bd1838",
   "metadata": {},
   "outputs": [
    {
     "data": {
      "text/plain": [
       "-1"
      ]
     },
     "execution_count": 33,
     "metadata": {},
     "output_type": "execute_result"
    }
   ],
   "source": [
    "b2-b1"
   ]
  },
  {
   "cell_type": "code",
   "execution_count": 34,
   "id": "dbfe760f-277e-4ea5-9ffe-2fd56e66188d",
   "metadata": {},
   "outputs": [
    {
     "data": {
      "text/plain": [
       "346.456456"
      ]
     },
     "execution_count": 34,
     "metadata": {},
     "output_type": "execute_result"
    }
   ],
   "source": [
    "a+b1"
   ]
  },
  {
   "cell_type": "code",
   "execution_count": 35,
   "id": "9700114d-ebad-40ee-a72d-452053a70514",
   "metadata": {},
   "outputs": [],
   "source": [
    "#Complex Number \n",
    "h= 7+ 8j"
   ]
  },
  {
   "cell_type": "code",
   "execution_count": 36,
   "id": "83df70a2-aab7-4719-8341-01e37d82a383",
   "metadata": {},
   "outputs": [
    {
     "data": {
      "text/plain": [
       "complex"
      ]
     },
     "execution_count": 36,
     "metadata": {},
     "output_type": "execute_result"
    }
   ],
   "source": [
    "type(h)"
   ]
  },
  {
   "cell_type": "code",
   "execution_count": 37,
   "id": "897ea835-19be-494e-ab14-ba4fa8c5f6b0",
   "metadata": {},
   "outputs": [
    {
     "data": {
      "text/plain": [
       "complex"
      ]
     },
     "execution_count": 37,
     "metadata": {},
     "output_type": "execute_result"
    }
   ],
   "source": [
    "i= 6j\n",
    "type(i)"
   ]
  },
  {
   "cell_type": "code",
   "execution_count": 38,
   "id": "d53acd1a-8a1a-4774-9275-efcd7665a7e8",
   "metadata": {},
   "outputs": [
    {
     "data": {
      "text/plain": [
       "(7+8j)"
      ]
     },
     "execution_count": 38,
     "metadata": {},
     "output_type": "execute_result"
    }
   ],
   "source": [
    "h"
   ]
  },
  {
   "cell_type": "code",
   "execution_count": 41,
   "id": "f08470fa-39db-45e1-b308-980b270e07b7",
   "metadata": {},
   "outputs": [
    {
     "data": {
      "text/plain": [
       "7.0"
      ]
     },
     "execution_count": 41,
     "metadata": {},
     "output_type": "execute_result"
    }
   ],
   "source": [
    "h.real"
   ]
  },
  {
   "cell_type": "code",
   "execution_count": 43,
   "id": "7faec8e6-cd1b-4f0d-8748-3f1c5fad2d64",
   "metadata": {},
   "outputs": [
    {
     "data": {
      "text/plain": [
       "8.0"
      ]
     },
     "execution_count": 43,
     "metadata": {},
     "output_type": "execute_result"
    }
   ],
   "source": [
    "h.imag"
   ]
  },
  {
   "cell_type": "code",
   "execution_count": null,
   "id": "03a3206d-2272-4c83-821e-4876c126c80e",
   "metadata": {},
   "outputs": [],
   "source": []
  }
 ],
 "metadata": {
  "kernelspec": {
   "display_name": "Python 3 (ipykernel)",
   "language": "python",
   "name": "python3"
  },
  "language_info": {
   "codemirror_mode": {
    "name": "ipython",
    "version": 3
   },
   "file_extension": ".py",
   "mimetype": "text/x-python",
   "name": "python",
   "nbconvert_exporter": "python",
   "pygments_lexer": "ipython3",
   "version": "3.10.8"
  }
 },
 "nbformat": 4,
 "nbformat_minor": 5
}
