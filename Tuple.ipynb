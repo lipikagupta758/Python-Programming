{
 "cells": [
  {
   "cell_type": "code",
   "execution_count": 3,
   "id": "6a9daf4c-c5a3-47b3-b463-8a32e72848ad",
   "metadata": {},
   "outputs": [
    {
     "data": {
      "text/plain": [
       "tuple"
      ]
     },
     "execution_count": 3,
     "metadata": {},
     "output_type": "execute_result"
    }
   ],
   "source": [
    "t= ()\n",
    "type(t)"
   ]
  },
  {
   "cell_type": "code",
   "execution_count": 4,
   "id": "3a44b115-13a4-47da-bdf7-00e11e40749a",
   "metadata": {},
   "outputs": [],
   "source": [
    "t1= (1,2,3,4,5,\"tup\", True, 5+6j)"
   ]
  },
  {
   "cell_type": "code",
   "execution_count": 5,
   "id": "769051b5-822b-468b-a68d-a7b1b31f6732",
   "metadata": {},
   "outputs": [],
   "source": [
    "l= [1,2,3,4,5,\"tup\",True,5+6j]"
   ]
  },
  {
   "cell_type": "code",
   "execution_count": null,
   "id": "de3c32c6-2140-430e-a2af-40daee212b89",
   "metadata": {},
   "outputs": [],
   "source": [
    "type(t1)"
   ]
  },
  {
   "cell_type": "code",
   "execution_count": 6,
   "id": "ea7e696f-890d-4584-b1bf-fc1a4e1a3370",
   "metadata": {},
   "outputs": [
    {
     "data": {
      "text/plain": [
       "list"
      ]
     },
     "execution_count": 6,
     "metadata": {},
     "output_type": "execute_result"
    }
   ],
   "source": [
    "type(l)"
   ]
  },
  {
   "cell_type": "code",
   "execution_count": 7,
   "id": "e9291145-97a3-4604-952f-8712b86f4248",
   "metadata": {},
   "outputs": [
    {
     "data": {
      "text/plain": [
       "'tup'"
      ]
     },
     "execution_count": 7,
     "metadata": {},
     "output_type": "execute_result"
    }
   ],
   "source": [
    "#Accessing element from tuple\n",
    "t1[5]"
   ]
  },
  {
   "cell_type": "code",
   "execution_count": 8,
   "id": "d82e0731-ab56-4801-9151-36f84ecbc190",
   "metadata": {},
   "outputs": [
    {
     "data": {
      "text/plain": [
       "'tup'"
      ]
     },
     "execution_count": 8,
     "metadata": {},
     "output_type": "execute_result"
    }
   ],
   "source": [
    "l[5]"
   ]
  },
  {
   "cell_type": "code",
   "execution_count": 9,
   "id": "4b84db79-0f94-4ae9-96f4-6686717e2866",
   "metadata": {},
   "outputs": [
    {
     "ename": "TypeError",
     "evalue": "'tuple' object does not support item assignment",
     "output_type": "error",
     "traceback": [
      "\u001b[0;31m---------------------------------------------------------------------------\u001b[0m",
      "\u001b[0;31mTypeError\u001b[0m                                 Traceback (most recent call last)",
      "Cell \u001b[0;32mIn[9], line 3\u001b[0m\n\u001b[1;32m      1\u001b[0m \u001b[38;5;66;03m# tuple object does not support item assignment\u001b[39;00m\n\u001b[1;32m      2\u001b[0m \u001b[38;5;66;03m# Therefore tuples are immutable entity\u001b[39;00m\n\u001b[0;32m----> 3\u001b[0m \u001b[43mt1\u001b[49m\u001b[43m[\u001b[49m\u001b[38;5;241;43m5\u001b[39;49m\u001b[43m]\u001b[49m\u001b[38;5;241m=\u001b[39m \u001b[38;5;124m\"\u001b[39m\u001b[38;5;124mlipika\u001b[39m\u001b[38;5;124m\"\u001b[39m\n",
      "\u001b[0;31mTypeError\u001b[0m: 'tuple' object does not support item assignment"
     ]
    }
   ],
   "source": [
    "# tuple object does not support item assignment\n",
    "# Therefore tuples are immutable entity\n",
    "t1[5]= \"lipika\""
   ]
  },
  {
   "cell_type": "code",
   "execution_count": 10,
   "id": "f4c5aeb8-d0a0-40dc-810b-321abb96eb4c",
   "metadata": {},
   "outputs": [],
   "source": [
    "# List are mutable entity\n",
    "l[5]= \"lipika\""
   ]
  },
  {
   "cell_type": "code",
   "execution_count": 11,
   "id": "33a75a04-10fb-4ec4-927b-a7646f5ef042",
   "metadata": {},
   "outputs": [
    {
     "data": {
      "text/plain": [
       "[1, 2, 3, 4, 5, 'lipika', True, (5+6j)]"
      ]
     },
     "execution_count": 11,
     "metadata": {},
     "output_type": "execute_result"
    }
   ],
   "source": [
    "l"
   ]
  },
  {
   "cell_type": "code",
   "execution_count": 12,
   "id": "84e5d193-bf5a-43a4-a6a5-725306266530",
   "metadata": {},
   "outputs": [
    {
     "data": {
      "text/plain": [
       "[1, 2, 3, 4, 5, 'tup', True, (5+6j)]"
      ]
     },
     "execution_count": 12,
     "metadata": {},
     "output_type": "execute_result"
    }
   ],
   "source": [
    "# to convert a tuple into a list\n",
    "list(t1)"
   ]
  },
  {
   "cell_type": "code",
   "execution_count": 13,
   "id": "d587a021-61d8-4acd-88e8-3898d35e1d19",
   "metadata": {},
   "outputs": [
    {
     "data": {
      "text/plain": [
       "tuple"
      ]
     },
     "execution_count": 13,
     "metadata": {},
     "output_type": "execute_result"
    }
   ],
   "source": [
    "type(t1)"
   ]
  },
  {
   "cell_type": "code",
   "execution_count": 14,
   "id": "e698228e-216d-4af2-a90c-79257eb4dacb",
   "metadata": {},
   "outputs": [
    {
     "data": {
      "text/plain": [
       "(1, 2, 3, 4, 5, 'lipika', True, (5+6j))"
      ]
     },
     "execution_count": 14,
     "metadata": {},
     "output_type": "execute_result"
    }
   ],
   "source": [
    "# to convert a list in a tuple\n",
    "tuple(l)"
   ]
  },
  {
   "cell_type": "code",
   "execution_count": 15,
   "id": "e3f00c9b-4772-4f1c-9e06-0a39a6fccf07",
   "metadata": {},
   "outputs": [
    {
     "data": {
      "text/plain": [
       "1"
      ]
     },
     "execution_count": 15,
     "metadata": {},
     "output_type": "execute_result"
    }
   ],
   "source": [
    "# count function- returns the occurences of a value\n",
    "t1.count(5)"
   ]
  },
  {
   "cell_type": "code",
   "execution_count": 22,
   "id": "625e3a60-5ca5-4538-b843-872f7d2ccf50",
   "metadata": {},
   "outputs": [
    {
     "data": {
      "text/plain": [
       "0"
      ]
     },
     "execution_count": 22,
     "metadata": {},
     "output_type": "execute_result"
    }
   ],
   "source": [
    "t1.count(100)"
   ]
  },
  {
   "cell_type": "code",
   "execution_count": 23,
   "id": "4a7dd5b1-53be-4476-aa03-3fec0be8f4b1",
   "metadata": {},
   "outputs": [
    {
     "data": {
      "text/plain": [
       "5"
      ]
     },
     "execution_count": 23,
     "metadata": {},
     "output_type": "execute_result"
    }
   ],
   "source": [
    "# index function- gives the index of tuple\n",
    "# if not found, gives error\n",
    "# if element occurs more than one time, it gives the index of firstt occurence ofelement\n",
    "t1.index(\"tup\")"
   ]
  },
  {
   "cell_type": "code",
   "execution_count": 24,
   "id": "db67718b-a9a3-490d-8bdc-64bb22d84fbc",
   "metadata": {},
   "outputs": [
    {
     "data": {
      "text/plain": [
       "3"
      ]
     },
     "execution_count": 24,
     "metadata": {},
     "output_type": "execute_result"
    }
   ],
   "source": [
    "t2= [2,5,7,3,2,8,9,2,0]\n",
    "t2.count(2)"
   ]
  },
  {
   "cell_type": "code",
   "execution_count": 25,
   "id": "93ab9f02-72d0-4a85-aef9-be15c6ecd30b",
   "metadata": {},
   "outputs": [
    {
     "data": {
      "text/plain": [
       "0"
      ]
     },
     "execution_count": 25,
     "metadata": {},
     "output_type": "execute_result"
    }
   ],
   "source": [
    "t2.index(2)"
   ]
  },
  {
   "cell_type": "code",
   "execution_count": 26,
   "id": "9cc9b866-a378-47f3-9c06-5af0336b6160",
   "metadata": {},
   "outputs": [
    {
     "data": {
      "text/plain": [
       "9"
      ]
     },
     "execution_count": 26,
     "metadata": {},
     "output_type": "execute_result"
    }
   ],
   "source": [
    "# max function- returns max element\n",
    "# min function- returns min element\n",
    "max(t2)"
   ]
  },
  {
   "cell_type": "code",
   "execution_count": 27,
   "id": "deacf94c-053b-4318-9fb3-d36505ffef80",
   "metadata": {},
   "outputs": [
    {
     "data": {
      "text/plain": [
       "0"
      ]
     },
     "execution_count": 27,
     "metadata": {},
     "output_type": "execute_result"
    }
   ],
   "source": [
    "min(t2)"
   ]
  },
  {
   "cell_type": "code",
   "execution_count": 28,
   "id": "ccc3b625-893c-48c3-b4f4-1e1bbc48a9db",
   "metadata": {},
   "outputs": [
    {
     "data": {
      "text/plain": [
       "9"
      ]
     },
     "execution_count": 28,
     "metadata": {},
     "output_type": "execute_result"
    }
   ],
   "source": [
    "# len function- gives length of tuple\n",
    "len(t2)"
   ]
  },
  {
   "cell_type": "code",
   "execution_count": null,
   "id": "831279e1-e9fa-414c-9953-fef77100f2b6",
   "metadata": {},
   "outputs": [],
   "source": []
  }
 ],
 "metadata": {
  "kernelspec": {
   "display_name": "Python 3 (ipykernel)",
   "language": "python",
   "name": "python3"
  },
  "language_info": {
   "codemirror_mode": {
    "name": "ipython",
    "version": 3
   },
   "file_extension": ".py",
   "mimetype": "text/x-python",
   "name": "python",
   "nbconvert_exporter": "python",
   "pygments_lexer": "ipython3",
   "version": "3.10.8"
  }
 },
 "nbformat": 4,
 "nbformat_minor": 5
}
