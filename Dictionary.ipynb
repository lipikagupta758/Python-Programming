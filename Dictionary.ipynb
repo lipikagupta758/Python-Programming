{
 "cells": [
  {
   "cell_type": "code",
   "execution_count": 1,
   "id": "2d65b932-1bb9-4922-b7b0-e02702285d50",
   "metadata": {},
   "outputs": [
    {
     "data": {
      "text/plain": [
       "dict"
      ]
     },
     "execution_count": 1,
     "metadata": {},
     "output_type": "execute_result"
    }
   ],
   "source": [
    "s= {}\n",
    "type(s)"
   ]
  },
  {
   "cell_type": "code",
   "execution_count": 2,
   "id": "b05997ab-446a-41e3-8e6f-477a1e44a816",
   "metadata": {},
   "outputs": [
    {
     "data": {
      "text/plain": [
       "set"
      ]
     },
     "execution_count": 2,
     "metadata": {},
     "output_type": "execute_result"
    }
   ],
   "source": [
    "s= {1,2,3,2}\n",
    "type(s)"
   ]
  },
  {
   "cell_type": "code",
   "execution_count": 6,
   "id": "2d5a725d-ebaa-4c85-b43a-2521599bd0fd",
   "metadata": {},
   "outputs": [],
   "source": [
    "# dictionary stores values in key:value pair\n",
    "d= {'a': 1, 'b': 2}"
   ]
  },
  {
   "cell_type": "code",
   "execution_count": 7,
   "id": "faf5085e-3fda-4ba0-aca2-581b0f87da5a",
   "metadata": {},
   "outputs": [
    {
     "data": {
      "text/plain": [
       "{'a': 1, 'b': 2}"
      ]
     },
     "execution_count": 7,
     "metadata": {},
     "output_type": "execute_result"
    }
   ],
   "source": [
    "d"
   ]
  },
  {
   "cell_type": "code",
   "execution_count": 8,
   "id": "3a567a66-2a71-49a6-8911-37531692ed32",
   "metadata": {},
   "outputs": [
    {
     "data": {
      "text/plain": [
       "dict"
      ]
     },
     "execution_count": 8,
     "metadata": {},
     "output_type": "execute_result"
    }
   ],
   "source": [
    "type(d)"
   ]
  },
  {
   "cell_type": "code",
   "execution_count": 10,
   "id": "b04ab923-a732-45c7-8f95-f4491b27a634",
   "metadata": {},
   "outputs": [
    {
     "data": {
      "text/plain": [
       "'lipika'"
      ]
     },
     "execution_count": 10,
     "metadata": {},
     "output_type": "execute_result"
    }
   ],
   "source": [
    "d1= {'name': 'lipika'}\n",
    "# value is accessed through key\n",
    "d1['name']"
   ]
  },
  {
   "cell_type": "code",
   "execution_count": 11,
   "id": "eb6b447a-7d1e-422a-ab64-ed866dd58ac7",
   "metadata": {},
   "outputs": [
    {
     "data": {
      "text/plain": [
       "'lipika'"
      ]
     },
     "execution_count": 11,
     "metadata": {},
     "output_type": "execute_result"
    }
   ],
   "source": [
    "d2= {2345: \"lipika\"}\n",
    "d2[2345]"
   ]
  },
  {
   "cell_type": "code",
   "execution_count": 16,
   "id": "ab79c58e-2189-4237-882a-2e6684de543c",
   "metadata": {},
   "outputs": [
    {
     "ename": "SyntaxError",
     "evalue": "invalid syntax (4224679772.py, line 2)",
     "output_type": "error",
     "traceback": [
      "\u001b[0;36m  Cell \u001b[0;32mIn[16], line 2\u001b[0;36m\u001b[0m\n\u001b[0;31m    d3= {23@:\"lipika\"}\u001b[0m\n\u001b[0m            ^\u001b[0m\n\u001b[0;31mSyntaxError\u001b[0m\u001b[0;31m:\u001b[0m invalid syntax\n"
     ]
    }
   ],
   "source": [
    "# key name cannot contain special characters\n",
    "d3= {23@:\"lipika\"}"
   ]
  },
  {
   "cell_type": "code",
   "execution_count": 18,
   "id": "30739ce1-fc78-44cc-b4dd-dfcbb11ccd62",
   "metadata": {},
   "outputs": [
    {
     "ename": "TypeError",
     "evalue": "unhashable type: 'list'",
     "output_type": "error",
     "traceback": [
      "\u001b[0;31m---------------------------------------------------------------------------\u001b[0m",
      "\u001b[0;31mTypeError\u001b[0m                                 Traceback (most recent call last)",
      "Cell \u001b[0;32mIn[18], line 2\u001b[0m\n\u001b[1;32m      1\u001b[0m \u001b[38;5;66;03m# key name cannot conatins list\u001b[39;00m\n\u001b[0;32m----> 2\u001b[0m d3\u001b[38;5;241m=\u001b[39m {[\u001b[38;5;241m1\u001b[39m,\u001b[38;5;241m2\u001b[39m]: \u001b[38;5;124m\"\u001b[39m\u001b[38;5;124mlipika\u001b[39m\u001b[38;5;124m\"\u001b[39m}\n",
      "\u001b[0;31mTypeError\u001b[0m: unhashable type: 'list'"
     ]
    }
   ],
   "source": [
    "# key name cannot conatins list\n",
    "d3= {[1,2]: \"lipika\"}"
   ]
  },
  {
   "cell_type": "code",
   "execution_count": 19,
   "id": "bfe6e9d1-c332-4240-99eb-29971594660b",
   "metadata": {},
   "outputs": [],
   "source": [
    "# key name can have tuple as it is immutable\n",
    "d3= {(1,2): \"lipika\"}"
   ]
  },
  {
   "cell_type": "code",
   "execution_count": 20,
   "id": "30367701-2ec2-4667-b308-03d258cc9319",
   "metadata": {},
   "outputs": [
    {
     "ename": "TypeError",
     "evalue": "unhashable type: 'set'",
     "output_type": "error",
     "traceback": [
      "\u001b[0;31m---------------------------------------------------------------------------\u001b[0m",
      "\u001b[0;31mTypeError\u001b[0m                                 Traceback (most recent call last)",
      "Cell \u001b[0;32mIn[20], line 2\u001b[0m\n\u001b[1;32m      1\u001b[0m \u001b[38;5;66;03m# key name cannot be a set\u001b[39;00m\n\u001b[0;32m----> 2\u001b[0m d4\u001b[38;5;241m=\u001b[39m {{\u001b[38;5;241m2\u001b[39m,\u001b[38;5;241m3\u001b[39m,\u001b[38;5;241m2\u001b[39m}: \u001b[38;5;124m\"\u001b[39m\u001b[38;5;124mlipika\u001b[39m\u001b[38;5;124m\"\u001b[39m}\n",
      "\u001b[0;31mTypeError\u001b[0m: unhashable type: 'set'"
     ]
    }
   ],
   "source": [
    "# key name cannot be a set\n",
    "d4= {{2,3,2}: \"lipika\"}"
   ]
  },
  {
   "cell_type": "code",
   "execution_count": 21,
   "id": "392d5fba-1599-4c2d-8063-c56db0bf4bce",
   "metadata": {},
   "outputs": [],
   "source": [
    "# key name can be boolean\n",
    "d4= {True: 1, False: 0}"
   ]
  },
  {
   "cell_type": "code",
   "execution_count": 22,
   "id": "78207431-bb75-447d-b533-2e087f1dff75",
   "metadata": {},
   "outputs": [
    {
     "data": {
      "text/plain": [
       "{True: 1, False: 0}"
      ]
     },
     "execution_count": 22,
     "metadata": {},
     "output_type": "execute_result"
    }
   ],
   "source": [
    "d4"
   ]
  },
  {
   "cell_type": "code",
   "execution_count": 23,
   "id": "e0ca9f0c-0fd1-4e4a-b5e6-27cec13f2309",
   "metadata": {},
   "outputs": [
    {
     "ename": "TypeError",
     "evalue": "unhashable type: 'dict'",
     "output_type": "error",
     "traceback": [
      "\u001b[0;31m---------------------------------------------------------------------------\u001b[0m",
      "\u001b[0;31mTypeError\u001b[0m                                 Traceback (most recent call last)",
      "Cell \u001b[0;32mIn[23], line 2\u001b[0m\n\u001b[1;32m      1\u001b[0m \u001b[38;5;66;03m# key name cannot be a dictionary\u001b[39;00m\n\u001b[0;32m----> 2\u001b[0m d5\u001b[38;5;241m=\u001b[39m {{\u001b[38;5;241m34\u001b[39m: \u001b[38;5;124m\"\u001b[39m\u001b[38;5;124ml\u001b[39m\u001b[38;5;124m\"\u001b[39m} : \u001b[38;5;124m\"\u001b[39m\u001b[38;5;124mHello\u001b[39m\u001b[38;5;124m\"\u001b[39m}\n",
      "\u001b[0;31mTypeError\u001b[0m: unhashable type: 'dict'"
     ]
    }
   ],
   "source": [
    "# key name cannot be a dictionary\n",
    "d5= {{34: \"l\"} : \"Hello\"}"
   ]
  },
  {
   "cell_type": "code",
   "execution_count": 26,
   "id": "062466f9-bed1-4fac-88e8-a1d26b60a0aa",
   "metadata": {},
   "outputs": [],
   "source": [
    "# key is unique in a dictionary\n",
    "d6= {\"name\": \"lipika\", \"name\": \"hello\"}"
   ]
  },
  {
   "cell_type": "code",
   "execution_count": 27,
   "id": "37d7dced-b61f-4378-a3ef-dd13e1da4269",
   "metadata": {},
   "outputs": [
    {
     "data": {
      "text/plain": [
       "{'name': 'hello'}"
      ]
     },
     "execution_count": 27,
     "metadata": {},
     "output_type": "execute_result"
    }
   ],
   "source": [
    "d6"
   ]
  },
  {
   "cell_type": "code",
   "execution_count": 3,
   "id": "e62b7aec-0d89-4944-9beb-53657c30ead5",
   "metadata": {},
   "outputs": [],
   "source": [
    "# value can be of any datatype\n",
    "d7= {\"name\": \"lipika\", \"email\":\"lipikagup75@gmail,com\", \"Subject\": [\"CS\", \"DBMS\", \"OS\", \"DSA\"]}"
   ]
  },
  {
   "cell_type": "code",
   "execution_count": 4,
   "id": "9750960e-1a35-475f-9792-173b2bca4330",
   "metadata": {},
   "outputs": [
    {
     "data": {
      "text/plain": [
       "{'name': 'lipika',\n",
       " 'email': 'lipikagup75@gmail,com',\n",
       " 'Subject': ['CS', 'DBMS', 'OS', 'DSA']}"
      ]
     },
     "execution_count": 4,
     "metadata": {},
     "output_type": "execute_result"
    }
   ],
   "source": [
    "d7"
   ]
  },
  {
   "cell_type": "code",
   "execution_count": 5,
   "id": "d8a5c66a-a9ff-4a34-ab57-13dfd0504631",
   "metadata": {},
   "outputs": [
    {
     "data": {
      "text/plain": [
       "['CS', 'DBMS', 'OS', 'DSA']"
      ]
     },
     "execution_count": 5,
     "metadata": {},
     "output_type": "execute_result"
    }
   ],
   "source": [
    "d7['Subject']"
   ]
  },
  {
   "cell_type": "code",
   "execution_count": 7,
   "id": "992ca99d-4f16-4bca-a05e-f29598eb7dd2",
   "metadata": {},
   "outputs": [
    {
     "data": {
      "text/plain": [
       "False"
      ]
     },
     "execution_count": 7,
     "metadata": {},
     "output_type": "execute_result"
    }
   ],
   "source": [
    "'DSA' in d7"
   ]
  },
  {
   "cell_type": "code",
   "execution_count": 8,
   "id": "cb8cd9f3-e9d8-4c7a-a5ed-51fe8f9beb2c",
   "metadata": {},
   "outputs": [
    {
     "data": {
      "text/plain": [
       "True"
      ]
     },
     "execution_count": 8,
     "metadata": {},
     "output_type": "execute_result"
    }
   ],
   "source": [
    "'DSA' in d7['Subject']"
   ]
  },
  {
   "cell_type": "code",
   "execution_count": 9,
   "id": "34a287c8-7c2e-40a4-b266-b5b172ebd239",
   "metadata": {},
   "outputs": [
    {
     "data": {
      "text/plain": [
       "True"
      ]
     },
     "execution_count": 9,
     "metadata": {},
     "output_type": "execute_result"
    }
   ],
   "source": [
    "'name' in d7"
   ]
  },
  {
   "cell_type": "code",
   "execution_count": 10,
   "id": "6d678614-735f-4b3c-a616-d99ce3bdde22",
   "metadata": {},
   "outputs": [
    {
     "data": {
      "text/plain": [
       "'DBMS'"
      ]
     },
     "execution_count": 10,
     "metadata": {},
     "output_type": "execute_result"
    }
   ],
   "source": [
    "d7['Subject'][1]"
   ]
  },
  {
   "cell_type": "code",
   "execution_count": 15,
   "id": "84b96f68-fbb7-44bf-bd87-26e86d1e0489",
   "metadata": {},
   "outputs": [],
   "source": [
    "d8= {'name': 'lipika', 'email': 'lipika@gmail.com', 'subject': ['DSA','DBMS', 'OS'], 'course':('B.Sc.', 'MCA'), 'teacher': {'Reena', 'Nitin', 'Deepika','Reena'}, 'marks': {'DSA': 95, 'DBMS': 90, 'OS':85}}"
   ]
  },
  {
   "cell_type": "code",
   "execution_count": 16,
   "id": "3b37f82c-a321-4add-a0cc-16cfc4543787",
   "metadata": {},
   "outputs": [
    {
     "data": {
      "text/plain": [
       "{'name': 'lipika',\n",
       " 'email': 'lipika@gmail.com',\n",
       " 'subject': ['DSA', 'DBMS', 'OS'],\n",
       " 'course': ('B.Sc.', 'MCA'),\n",
       " 'teacher': {'Deepika', 'Nitin', 'Reena'},\n",
       " 'marks': {'DSA': 95, 'DBMS': 90, 'OS': 85}}"
      ]
     },
     "execution_count": 16,
     "metadata": {},
     "output_type": "execute_result"
    }
   ],
   "source": [
    "d8"
   ]
  },
  {
   "cell_type": "code",
   "execution_count": 17,
   "id": "f8b221d5-4775-4389-9725-679289f8d1f8",
   "metadata": {},
   "outputs": [
    {
     "data": {
      "text/plain": [
       "dict"
      ]
     },
     "execution_count": 17,
     "metadata": {},
     "output_type": "execute_result"
    }
   ],
   "source": [
    "type(d8['marks'])"
   ]
  },
  {
   "cell_type": "code",
   "execution_count": 18,
   "id": "3a18ab5b-2c8c-4193-aae9-80117f906493",
   "metadata": {},
   "outputs": [
    {
     "data": {
      "text/plain": [
       "90"
      ]
     },
     "execution_count": 18,
     "metadata": {},
     "output_type": "execute_result"
    }
   ],
   "source": [
    "d8['marks']['DBMS']"
   ]
  },
  {
   "cell_type": "code",
   "execution_count": 27,
   "id": "9d745281-69f0-4fd7-8a34-ce6313803900",
   "metadata": {},
   "outputs": [],
   "source": [
    "d8['result']= {'B.Sc': 'Passed', 'MCA': 'Appearing'}"
   ]
  },
  {
   "cell_type": "code",
   "execution_count": 28,
   "id": "c9332c37-a0f7-4810-ac55-f4edcd3fe7ee",
   "metadata": {},
   "outputs": [
    {
     "data": {
      "text/plain": [
       "{'name': 'lipika',\n",
       " 'email': 'lipika@gmail.com',\n",
       " 'subject': ['DSA', 'DBMS', 'OS'],\n",
       " 'course': ('B.Sc.', 'MCA'),\n",
       " 'teacher': {'Deepika', 'Nitin', 'Reena'},\n",
       " 'marks': {'DSA': 95, 'DBMS': 90, 'OS': 85},\n",
       " 'result': {'B.Sc': 'Passed', 'MCA': 'Appearing'}}"
      ]
     },
     "execution_count": 28,
     "metadata": {},
     "output_type": "execute_result"
    }
   ],
   "source": [
    "d8"
   ]
  },
  {
   "cell_type": "code",
   "execution_count": 29,
   "id": "a8893031-aa07-4c98-9fbc-21194062d9f3",
   "metadata": {},
   "outputs": [],
   "source": [
    "d8['email']= \"lipika@gmail.com\""
   ]
  },
  {
   "cell_type": "code",
   "execution_count": 30,
   "id": "84689ccc-8496-40be-b996-a39b95fc3f53",
   "metadata": {},
   "outputs": [
    {
     "data": {
      "text/plain": [
       "{'name': 'lipika',\n",
       " 'email': 'lipika@gmail.com',\n",
       " 'subject': ['DSA', 'DBMS', 'OS'],\n",
       " 'course': ('B.Sc.', 'MCA'),\n",
       " 'teacher': {'Deepika', 'Nitin', 'Reena'},\n",
       " 'marks': {'DSA': 95, 'DBMS': 90, 'OS': 85},\n",
       " 'result': {'B.Sc': 'Passed', 'MCA': 'Appearing'}}"
      ]
     },
     "execution_count": 30,
     "metadata": {},
     "output_type": "execute_result"
    }
   ],
   "source": [
    "d8"
   ]
  },
  {
   "cell_type": "code",
   "execution_count": 31,
   "id": "15d5cd5f-e353-4af4-8807-35763fe088c8",
   "metadata": {},
   "outputs": [],
   "source": [
    "# del function- delete the key:value pair\n",
    "del d8['result']"
   ]
  },
  {
   "cell_type": "code",
   "execution_count": 26,
   "id": "12653c07-e3df-4944-8cac-41700f13eeb7",
   "metadata": {},
   "outputs": [
    {
     "data": {
      "text/plain": [
       "{'name': 'lipika',\n",
       " 'email': 'lipika@gmail.com',\n",
       " 'subject': ['DSA', 'DBMS', 'OS'],\n",
       " 'course': ('B.Sc.', 'MCA'),\n",
       " 'teacher': {'Deepika', 'Nitin', 'Reena'},\n",
       " 'marks': {'DSA': 95, 'DBMS': 90, 'OS': 85}}"
      ]
     },
     "execution_count": 26,
     "metadata": {},
     "output_type": "execute_result"
    }
   ],
   "source": [
    "d8"
   ]
  },
  {
   "cell_type": "code",
   "execution_count": 33,
   "id": "ab941d49-2c78-4dea-a698-9774a3420e3d",
   "metadata": {},
   "outputs": [
    {
     "data": {
      "text/plain": [
       "dict_keys(['name', 'email', 'subject', 'course', 'teacher', 'marks'])"
      ]
     },
     "execution_count": 33,
     "metadata": {},
     "output_type": "execute_result"
    }
   ],
   "source": [
    "# gives all the keys of the dictionary\n",
    "d8.keys()"
   ]
  },
  {
   "cell_type": "code",
   "execution_count": 34,
   "id": "57b94850-cb01-4a72-9fe0-268c3ce9eb58",
   "metadata": {},
   "outputs": [
    {
     "data": {
      "text/plain": [
       "['name', 'email', 'subject', 'course', 'teacher', 'marks']"
      ]
     },
     "execution_count": 34,
     "metadata": {},
     "output_type": "execute_result"
    }
   ],
   "source": [
    "list(d8.keys())"
   ]
  },
  {
   "cell_type": "code",
   "execution_count": 35,
   "id": "65bd4e48-cce0-4683-95e2-44158702c530",
   "metadata": {},
   "outputs": [
    {
     "data": {
      "text/plain": [
       "dict_values(['lipika', 'lipika@gmail.com', ['DSA', 'DBMS', 'OS'], ('B.Sc.', 'MCA'), {'Nitin', 'Reena', 'Deepika'}, {'DSA': 95, 'DBMS': 90, 'OS': 85}])"
      ]
     },
     "execution_count": 35,
     "metadata": {},
     "output_type": "execute_result"
    }
   ],
   "source": [
    "# values()- gives all values of dictionary\n",
    "d8.values()"
   ]
  },
  {
   "cell_type": "code",
   "execution_count": 36,
   "id": "9150696f-23f9-43e8-8d43-4f2b516d1c5a",
   "metadata": {},
   "outputs": [
    {
     "data": {
      "text/plain": [
       "dict_items([('name', 'lipika'), ('email', 'lipika@gmail.com'), ('subject', ['DSA', 'DBMS', 'OS']), ('course', ('B.Sc.', 'MCA')), ('teacher', {'Nitin', 'Reena', 'Deepika'}), ('marks', {'DSA': 95, 'DBMS': 90, 'OS': 85})])"
      ]
     },
     "execution_count": 36,
     "metadata": {},
     "output_type": "execute_result"
    }
   ],
   "source": [
    "# items- it gives key:value pair in tuples\n",
    "d8.items()"
   ]
  },
  {
   "cell_type": "raw",
   "id": "27a00128-b8e8-46ec-9a40-8880d83f1720",
   "metadata": {},
   "source": [
    "# clear- it deletes everything in dictionary\n",
    "d4.clear()"
   ]
  },
  {
   "cell_type": "code",
   "execution_count": null,
   "id": "e3e3e3ae-b914-41df-8226-6344779399f3",
   "metadata": {},
   "outputs": [],
   "source": []
  }
 ],
 "metadata": {
  "kernelspec": {
   "display_name": "Python 3 (ipykernel)",
   "language": "python",
   "name": "python3"
  },
  "language_info": {
   "codemirror_mode": {
    "name": "ipython",
    "version": 3
   },
   "file_extension": ".py",
   "mimetype": "text/x-python",
   "name": "python",
   "nbconvert_exporter": "python",
   "pygments_lexer": "ipython3",
   "version": "3.10.8"
  }
 },
 "nbformat": 4,
 "nbformat_minor": 5
}
