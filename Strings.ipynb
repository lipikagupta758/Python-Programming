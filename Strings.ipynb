{
 "cells": [
  {
   "cell_type": "code",
   "execution_count": 1,
   "id": "3685259b-b4b4-43e6-ab61-1bece42c5010",
   "metadata": {},
   "outputs": [
    {
     "data": {
      "text/plain": [
       "str"
      ]
     },
     "execution_count": 1,
     "metadata": {},
     "output_type": "execute_result"
    }
   ],
   "source": [
    "s= \"Lipika\"\n",
    "type(s)"
   ]
  },
  {
   "cell_type": "code",
   "execution_count": 2,
   "id": "05f65b5e-0116-4be9-ac1c-1963720f0021",
   "metadata": {},
   "outputs": [
    {
     "data": {
      "text/plain": [
       "'I am a computer science student'"
      ]
     },
     "execution_count": 2,
     "metadata": {},
     "output_type": "execute_result"
    }
   ],
   "source": [
    "s1= 'I am a computer science student'\n",
    "s1"
   ]
  },
  {
   "cell_type": "code",
   "execution_count": 5,
   "id": "3a8ff863-b76a-43e6-ae88-6c46ce3dad28",
   "metadata": {},
   "outputs": [
    {
     "data": {
      "text/plain": [
       "31"
      ]
     },
     "execution_count": 5,
     "metadata": {},
     "output_type": "execute_result"
    }
   ],
   "source": [
    "# Length of string, it counts whitspaces\n",
    "len(s1)"
   ]
  },
  {
   "cell_type": "code",
   "execution_count": 6,
   "id": "178c99c1-e050-44fd-b8cb-a06d7ce172e1",
   "metadata": {},
   "outputs": [
    {
     "data": {
      "text/plain": [
       "6"
      ]
     },
     "execution_count": 6,
     "metadata": {},
     "output_type": "execute_result"
    }
   ],
   "source": [
    "len(s)"
   ]
  },
  {
   "cell_type": "raw",
   "id": "56750c5e-a8a8-4a45-bae6-9e6783ecd4c4",
   "metadata": {},
   "source": [
    "Indexing of a string starts from 0 to (len-1)"
   ]
  },
  {
   "cell_type": "code",
   "execution_count": 14,
   "id": "56e0a4bb-4db4-4f12-a547-88b4de37f4ca",
   "metadata": {},
   "outputs": [
    {
     "data": {
      "text/plain": [
       "2"
      ]
     },
     "execution_count": 14,
     "metadata": {},
     "output_type": "execute_result"
    }
   ],
   "source": [
    "# find function- Gives lower index of substring if present in the string\n",
    "# If not found, return -1\n",
    "s1.find('a')"
   ]
  },
  {
   "cell_type": "code",
   "execution_count": 15,
   "id": "1c275567-95a1-4950-9ab8-227fa3fd0f02",
   "metadata": {},
   "outputs": [
    {
     "data": {
      "text/plain": [
       "7"
      ]
     },
     "execution_count": 15,
     "metadata": {},
     "output_type": "execute_result"
    }
   ],
   "source": [
    "s1.find('computer')"
   ]
  },
  {
   "cell_type": "code",
   "execution_count": 16,
   "id": "7a374a3a-474b-4afd-ae01-be69a3ccb15a",
   "metadata": {},
   "outputs": [
    {
     "data": {
      "text/plain": [
       "-1"
      ]
     },
     "execution_count": 16,
     "metadata": {},
     "output_type": "execute_result"
    }
   ],
   "source": [
    "s1.find('new')"
   ]
  },
  {
   "cell_type": "code",
   "execution_count": 17,
   "id": "6e8bb50b-a71f-4543-9418-99509642ab83",
   "metadata": {},
   "outputs": [
    {
     "data": {
      "text/plain": [
       "5"
      ]
     },
     "execution_count": 17,
     "metadata": {},
     "output_type": "execute_result"
    }
   ],
   "source": [
    "s3= \"pwskills\"\n",
    "s3.find('l')"
   ]
  },
  {
   "cell_type": "code",
   "execution_count": 18,
   "id": "081954ec-d73a-427b-85ee-c6a6984b42cd",
   "metadata": {},
   "outputs": [
    {
     "data": {
      "text/plain": [
       "2"
      ]
     },
     "execution_count": 18,
     "metadata": {},
     "output_type": "execute_result"
    }
   ],
   "source": [
    "# count function returns the number of occurences of string/char in a string\n",
    "s3.count('l')"
   ]
  },
  {
   "cell_type": "code",
   "execution_count": 21,
   "id": "ee85920d-6cf4-4e0c-a328-87bcc97b4294",
   "metadata": {},
   "outputs": [
    {
     "data": {
      "text/plain": [
       "1"
      ]
     },
     "execution_count": 21,
     "metadata": {},
     "output_type": "execute_result"
    }
   ],
   "source": [
    "s1.count('computer')"
   ]
  },
  {
   "cell_type": "code",
   "execution_count": 22,
   "id": "4d4b7fb3-8913-40c8-ba1c-b4d8199e9776",
   "metadata": {},
   "outputs": [
    {
     "data": {
      "text/plain": [
       "0"
      ]
     },
     "execution_count": 22,
     "metadata": {},
     "output_type": "execute_result"
    }
   ],
   "source": [
    "s3.count('new')"
   ]
  },
  {
   "cell_type": "code",
   "execution_count": 23,
   "id": "2490c25c-e3bf-4d85-8aca-f117b1462168",
   "metadata": {},
   "outputs": [
    {
     "data": {
      "text/plain": [
       "'I AM A COMPUTER SCIENCE STUDENT'"
      ]
     },
     "execution_count": 23,
     "metadata": {},
     "output_type": "execute_result"
    }
   ],
   "source": [
    "# Upper function- Uppercase the letters of the string\n",
    "# Lower function- Lowers the letters of the string\n",
    "s1.upper()"
   ]
  },
  {
   "cell_type": "code",
   "execution_count": 24,
   "id": "6e7a76eb-8a9f-445b-80c1-5ea578dcc458",
   "metadata": {},
   "outputs": [
    {
     "data": {
      "text/plain": [
       "'i am a computer science student'"
      ]
     },
     "execution_count": 24,
     "metadata": {},
     "output_type": "execute_result"
    }
   ],
   "source": [
    "s1.lower()"
   ]
  },
  {
   "cell_type": "code",
   "execution_count": 25,
   "id": "76970dc6-1013-4cbf-a44d-ec6bf1722146",
   "metadata": {},
   "outputs": [
    {
     "data": {
      "text/plain": [
       "'I am a computer science student'"
      ]
     },
     "execution_count": 25,
     "metadata": {},
     "output_type": "execute_result"
    }
   ],
   "source": [
    "s1"
   ]
  },
  {
   "cell_type": "raw",
   "id": "6d56878b-47fd-429b-a9e4-0b14376e4e5a",
   "metadata": {},
   "source": [
    "These changes do not get stored. It only creates a copy. If you want to store these changes, reassign the variable"
   ]
  },
  {
   "cell_type": "code",
   "execution_count": 26,
   "id": "c03126f2-361d-4169-88b8-3de9efb27d69",
   "metadata": {},
   "outputs": [],
   "source": [
    "s1= s1.upper()"
   ]
  },
  {
   "cell_type": "code",
   "execution_count": 27,
   "id": "74b36455-f745-4171-86d5-a5c29c317e91",
   "metadata": {},
   "outputs": [
    {
     "data": {
      "text/plain": [
       "'I AM A COMPUTER SCIENCE STUDENT'"
      ]
     },
     "execution_count": 27,
     "metadata": {},
     "output_type": "execute_result"
    }
   ],
   "source": [
    "s1"
   ]
  },
  {
   "cell_type": "code",
   "execution_count": 28,
   "id": "18b7e11c-93dd-4801-8932-73a77c037b18",
   "metadata": {},
   "outputs": [
    {
     "data": {
      "text/plain": [
       "'I Am A Computer Science Student'"
      ]
     },
     "execution_count": 28,
     "metadata": {},
     "output_type": "execute_result"
    }
   ],
   "source": [
    "# title- this function titlecase the string\n",
    "s1.title()"
   ]
  },
  {
   "cell_type": "code",
   "execution_count": 30,
   "id": "5e474388-d4e0-4a65-a7ae-bd978f3ced37",
   "metadata": {},
   "outputs": [
    {
     "data": {
      "text/plain": [
       "'I am a computer science student'"
      ]
     },
     "execution_count": 30,
     "metadata": {},
     "output_type": "execute_result"
    }
   ],
   "source": [
    "# Capatalize- It only uppercase the first character of string\n",
    "s1.capitalize()"
   ]
  },
  {
   "cell_type": "code",
   "execution_count": 1,
   "id": "adcc89b9-ee8b-4036-a729-bf5b3e841ec7",
   "metadata": {},
   "outputs": [
    {
     "data": {
      "text/plain": [
       "'p'"
      ]
     },
     "execution_count": 1,
     "metadata": {},
     "output_type": "execute_result"
    }
   ],
   "source": [
    "# Indexing\n",
    "# Forward Indexing- 0 to n-1\n",
    "# Backward Indexing- -1 to -n\n",
    "s='pwskills'\n",
    "s[0]"
   ]
  },
  {
   "cell_type": "code",
   "execution_count": 2,
   "id": "9e02c61a-12a6-4763-9cc9-1fce33580e4e",
   "metadata": {},
   "outputs": [
    {
     "ename": "IndexError",
     "evalue": "string index out of range",
     "output_type": "error",
     "traceback": [
      "\u001b[0;31m---------------------------------------------------------------------------\u001b[0m",
      "\u001b[0;31mIndexError\u001b[0m                                Traceback (most recent call last)",
      "Cell \u001b[0;32mIn[2], line 1\u001b[0m\n\u001b[0;32m----> 1\u001b[0m \u001b[43ms\u001b[49m\u001b[43m[\u001b[49m\u001b[38;5;241;43m100\u001b[39;49m\u001b[43m]\u001b[49m\n",
      "\u001b[0;31mIndexError\u001b[0m: string index out of range"
     ]
    }
   ],
   "source": [
    "s[100]"
   ]
  },
  {
   "cell_type": "code",
   "execution_count": 4,
   "id": "a4f08388-c430-4cf0-a354-ab34e69512c5",
   "metadata": {},
   "outputs": [
    {
     "data": {
      "text/plain": [
       "'i'"
      ]
     },
     "execution_count": 4,
     "metadata": {},
     "output_type": "execute_result"
    }
   ],
   "source": [
    "s[-4]"
   ]
  },
  {
   "cell_type": "code",
   "execution_count": 11,
   "id": "0702c253-c92b-4e82-8198-4b9583deb570",
   "metadata": {},
   "outputs": [
    {
     "data": {
      "text/plain": [
       "'pwskills'"
      ]
     },
     "execution_count": 11,
     "metadata": {},
     "output_type": "execute_result"
    }
   ],
   "source": [
    "# String slicing- [Start: End-1: Spacing]\n",
    "# By default spacing is 1 if not given\n",
    "# By default start is 0 if not given\n",
    "# By default end is length of string if not given\n",
    "s[0: ]"
   ]
  },
  {
   "cell_type": "code",
   "execution_count": 12,
   "id": "ed4619d7-c13d-46e1-9d17-8458e1d77e5e",
   "metadata": {},
   "outputs": [
    {
     "data": {
      "text/plain": [
       "'psil'"
      ]
     },
     "execution_count": 12,
     "metadata": {},
     "output_type": "execute_result"
    }
   ],
   "source": [
    "s[0: :2]"
   ]
  },
  {
   "cell_type": "code",
   "execution_count": 14,
   "id": "df4cefc9-050c-4601-a73a-06e4852769e8",
   "metadata": {},
   "outputs": [
    {
     "data": {
      "text/plain": [
       "'pws'"
      ]
     },
     "execution_count": 14,
     "metadata": {},
     "output_type": "execute_result"
    }
   ],
   "source": [
    "s[0:3]"
   ]
  },
  {
   "cell_type": "code",
   "execution_count": 15,
   "id": "af601216-4449-4c05-a89e-348bfc2c21ba",
   "metadata": {},
   "outputs": [
    {
     "data": {
      "text/plain": [
       "'pwsk'"
      ]
     },
     "execution_count": 15,
     "metadata": {},
     "output_type": "execute_result"
    }
   ],
   "source": [
    "s[: 4]"
   ]
  },
  {
   "cell_type": "code",
   "execution_count": 17,
   "id": "42f76e88-a60e-4303-93e7-72dfb8ab8bc9",
   "metadata": {},
   "outputs": [
    {
     "data": {
      "text/plain": [
       "'psil'"
      ]
     },
     "execution_count": 17,
     "metadata": {},
     "output_type": "execute_result"
    }
   ],
   "source": [
    "# When a non existing index is accesssed it gives error, but if we try to give non existing limit while slicing it do not gives an error\n",
    "s[0:100:2]"
   ]
  },
  {
   "cell_type": "code",
   "execution_count": 18,
   "id": "98289a8a-347c-4aef-a533-55bc2125e096",
   "metadata": {},
   "outputs": [
    {
     "data": {
      "text/plain": [
       "''"
      ]
     },
     "execution_count": 18,
     "metadata": {},
     "output_type": "execute_result"
    }
   ],
   "source": [
    "s[0:7:-1]"
   ]
  },
  {
   "cell_type": "code",
   "execution_count": 24,
   "id": "6500144e-97bf-4ae9-ad6d-22f619c84582",
   "metadata": {},
   "outputs": [
    {
     "data": {
      "text/plain": [
       "'lliks'"
      ]
     },
     "execution_count": 24,
     "metadata": {},
     "output_type": "execute_result"
    }
   ],
   "source": [
    "s[6:1:-1]"
   ]
  },
  {
   "cell_type": "code",
   "execution_count": 25,
   "id": "5429f62c-1f6f-4db6-9492-ee4e7f319baf",
   "metadata": {},
   "outputs": [
    {
     "data": {
      "text/plain": [
       "'slliksw'"
      ]
     },
     "execution_count": 25,
     "metadata": {},
     "output_type": "execute_result"
    }
   ],
   "source": [
    "s[7:0:-1]"
   ]
  },
  {
   "cell_type": "code",
   "execution_count": 27,
   "id": "3be148f2-02f6-4460-8478-fec0571e11d9",
   "metadata": {},
   "outputs": [
    {
     "data": {
      "text/plain": [
       "'sllikswp'"
      ]
     },
     "execution_count": 27,
     "metadata": {},
     "output_type": "execute_result"
    }
   ],
   "source": [
    "s[7::-1]"
   ]
  },
  {
   "cell_type": "code",
   "execution_count": 29,
   "id": "12c6dd60-d359-4039-9b99-023a6de88dc9",
   "metadata": {},
   "outputs": [
    {
     "data": {
      "text/plain": [
       "'pwskills'"
      ]
     },
     "execution_count": 29,
     "metadata": {},
     "output_type": "execute_result"
    }
   ],
   "source": [
    "s[::]"
   ]
  },
  {
   "cell_type": "code",
   "execution_count": 30,
   "id": "b07111e4-ec94-469e-b1ab-74a8ac1c9153",
   "metadata": {},
   "outputs": [
    {
     "data": {
      "text/plain": [
       "'sllikswp'"
      ]
     },
     "execution_count": 30,
     "metadata": {},
     "output_type": "execute_result"
    }
   ],
   "source": [
    "s[::-1]"
   ]
  },
  {
   "cell_type": "code",
   "execution_count": null,
   "id": "e27c9695-15d6-49f8-b82a-6799736067b5",
   "metadata": {},
   "outputs": [],
   "source": []
  }
 ],
 "metadata": {
  "kernelspec": {
   "display_name": "Python 3 (ipykernel)",
   "language": "python",
   "name": "python3"
  },
  "language_info": {
   "codemirror_mode": {
    "name": "ipython",
    "version": 3
   },
   "file_extension": ".py",
   "mimetype": "text/x-python",
   "name": "python",
   "nbconvert_exporter": "python",
   "pygments_lexer": "ipython3",
   "version": "3.10.8"
  }
 },
 "nbformat": 4,
 "nbformat_minor": 5
}
